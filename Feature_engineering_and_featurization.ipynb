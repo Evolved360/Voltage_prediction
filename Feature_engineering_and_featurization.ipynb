{
  "nbformat": 4,
  "nbformat_minor": 0,
  "metadata": {
    "colab": {
      "provenance": [],
      "authorship_tag": "ABX9TyNk2UArUG7/sTSrHQ5MB+9Q",
      "include_colab_link": true
    },
    "kernelspec": {
      "name": "python3",
      "display_name": "Python 3"
    },
    "language_info": {
      "name": "python"
    }
  },
  "cells": [
    {
      "cell_type": "markdown",
      "metadata": {
        "id": "view-in-github",
        "colab_type": "text"
      },
      "source": [
        "<a href=\"https://colab.research.google.com/github/Evolved360/Neural-Inc/blob/main/Feature_engineering_and_featurization.ipynb\" target=\"_parent\"><img src=\"https://colab.research.google.com/assets/colab-badge.svg\" alt=\"Open In Colab\"/></a>"
      ]
    },
    {
      "cell_type": "code",
      "execution_count": 1,
      "metadata": {
        "id": "v6yIO-vMvAZo",
        "colab": {
          "base_uri": "https://localhost:8080/"
        },
        "outputId": "08b53a9e-73b8-4630-8d43-c155f335ce07"
      },
      "outputs": [
        {
          "output_type": "stream",
          "name": "stdout",
          "text": [
            "Collecting CBFV\n",
            "  Downloading CBFV-1.1.0-py3-none-any.whl (539 kB)\n",
            "\u001b[2K     \u001b[90m━━━━━━━━━━━━━━━━━━━━━━━━━━━━━━━━━━━━━━━━\u001b[0m \u001b[32m539.2/539.2 kB\u001b[0m \u001b[31m7.9 MB/s\u001b[0m eta \u001b[36m0:00:00\u001b[0m\n",
            "\u001b[?25hRequirement already satisfied: numpy in /usr/local/lib/python3.10/dist-packages (from CBFV) (1.25.2)\n",
            "Requirement already satisfied: pandas in /usr/local/lib/python3.10/dist-packages (from CBFV) (2.0.3)\n",
            "Requirement already satisfied: tqdm in /usr/local/lib/python3.10/dist-packages (from CBFV) (4.66.4)\n",
            "Requirement already satisfied: pytest in /usr/local/lib/python3.10/dist-packages (from CBFV) (7.4.4)\n",
            "Requirement already satisfied: python-dateutil>=2.8.2 in /usr/local/lib/python3.10/dist-packages (from pandas->CBFV) (2.8.2)\n",
            "Requirement already satisfied: pytz>=2020.1 in /usr/local/lib/python3.10/dist-packages (from pandas->CBFV) (2023.4)\n",
            "Requirement already satisfied: tzdata>=2022.1 in /usr/local/lib/python3.10/dist-packages (from pandas->CBFV) (2024.1)\n",
            "Requirement already satisfied: iniconfig in /usr/local/lib/python3.10/dist-packages (from pytest->CBFV) (2.0.0)\n",
            "Requirement already satisfied: packaging in /usr/local/lib/python3.10/dist-packages (from pytest->CBFV) (24.1)\n",
            "Requirement already satisfied: pluggy<2.0,>=0.12 in /usr/local/lib/python3.10/dist-packages (from pytest->CBFV) (1.5.0)\n",
            "Requirement already satisfied: exceptiongroup>=1.0.0rc8 in /usr/local/lib/python3.10/dist-packages (from pytest->CBFV) (1.2.1)\n",
            "Requirement already satisfied: tomli>=1.0.0 in /usr/local/lib/python3.10/dist-packages (from pytest->CBFV) (2.0.1)\n",
            "Requirement already satisfied: six>=1.5 in /usr/local/lib/python3.10/dist-packages (from python-dateutil>=2.8.2->pandas->CBFV) (1.16.0)\n",
            "Installing collected packages: CBFV\n",
            "Successfully installed CBFV-1.1.0\n",
            "Collecting matminer\n",
            "  Downloading matminer-0.9.2-py3-none-any.whl (1.4 MB)\n",
            "\u001b[2K     \u001b[90m━━━━━━━━━━━━━━━━━━━━━━━━━━━━━━━━━━━━━━━━\u001b[0m \u001b[32m1.4/1.4 MB\u001b[0m \u001b[31m14.5 MB/s\u001b[0m eta \u001b[36m0:00:00\u001b[0m\n",
            "\u001b[?25hRequirement already satisfied: numpy<2,>=1.23 in /usr/local/lib/python3.10/dist-packages (from matminer) (1.25.2)\n",
            "Requirement already satisfied: requests~=2.31 in /usr/local/lib/python3.10/dist-packages (from matminer) (2.31.0)\n",
            "Requirement already satisfied: pandas<3,>=1.5 in /usr/local/lib/python3.10/dist-packages (from matminer) (2.0.3)\n",
            "Requirement already satisfied: tqdm~=4.66 in /usr/local/lib/python3.10/dist-packages (from matminer) (4.66.4)\n",
            "Collecting pymongo~=4.5 (from matminer)\n",
            "  Downloading pymongo-4.7.3-cp310-cp310-manylinux_2_17_x86_64.manylinux2014_x86_64.whl (669 kB)\n",
            "\u001b[2K     \u001b[90m━━━━━━━━━━━━━━━━━━━━━━━━━━━━━━━━━━━━━━━━\u001b[0m \u001b[32m669.1/669.1 kB\u001b[0m \u001b[31m26.8 MB/s\u001b[0m eta \u001b[36m0:00:00\u001b[0m\n",
            "\u001b[?25hCollecting scikit-learn~=1.3 (from matminer)\n",
            "  Downloading scikit_learn-1.5.0-cp310-cp310-manylinux_2_17_x86_64.manylinux2014_x86_64.whl (13.3 MB)\n",
            "\u001b[2K     \u001b[90m━━━━━━━━━━━━━━━━━━━━━━━━━━━━━━━━━━━━━━━━\u001b[0m \u001b[32m13.3/13.3 MB\u001b[0m \u001b[31m73.9 MB/s\u001b[0m eta \u001b[36m0:00:00\u001b[0m\n",
            "\u001b[?25hRequirement already satisfied: sympy~=1.11 in /usr/local/lib/python3.10/dist-packages (from matminer) (1.12.1)\n",
            "Collecting monty>=2023 (from matminer)\n",
            "  Downloading monty-2024.5.24-py3-none-any.whl (67 kB)\n",
            "\u001b[2K     \u001b[90m━━━━━━━━━━━━━━━━━━━━━━━━━━━━━━━━━━━━━━━━\u001b[0m \u001b[32m67.9/67.9 kB\u001b[0m \u001b[31m8.4 MB/s\u001b[0m eta \u001b[36m0:00:00\u001b[0m\n",
            "\u001b[?25hCollecting pymatgen>=2023 (from matminer)\n",
            "  Downloading pymatgen-2024.6.10-cp310-cp310-manylinux_2_17_x86_64.manylinux2014_x86_64.whl (4.8 MB)\n",
            "\u001b[2K     \u001b[90m━━━━━━━━━━━━━━━━━━━━━━━━━━━━━━━━━━━━━━━━\u001b[0m \u001b[32m4.8/4.8 MB\u001b[0m \u001b[31m86.2 MB/s\u001b[0m eta \u001b[36m0:00:00\u001b[0m\n",
            "\u001b[?25hRequirement already satisfied: python-dateutil>=2.8.2 in /usr/local/lib/python3.10/dist-packages (from pandas<3,>=1.5->matminer) (2.8.2)\n",
            "Requirement already satisfied: pytz>=2020.1 in /usr/local/lib/python3.10/dist-packages (from pandas<3,>=1.5->matminer) (2023.4)\n",
            "Requirement already satisfied: tzdata>=2022.1 in /usr/local/lib/python3.10/dist-packages (from pandas<3,>=1.5->matminer) (2024.1)\n",
            "Collecting matplotlib>=3.8 (from pymatgen>=2023->matminer)\n",
            "  Downloading matplotlib-3.9.0-cp310-cp310-manylinux_2_17_x86_64.manylinux2014_x86_64.whl (8.3 MB)\n",
            "\u001b[2K     \u001b[90m━━━━━━━━━━━━━━━━━━━━━━━━━━━━━━━━━━━━━━━━\u001b[0m \u001b[32m8.3/8.3 MB\u001b[0m \u001b[31m87.6 MB/s\u001b[0m eta \u001b[36m0:00:00\u001b[0m\n",
            "\u001b[?25hRequirement already satisfied: networkx>=2.2 in /usr/local/lib/python3.10/dist-packages (from pymatgen>=2023->matminer) (3.3)\n",
            "Collecting palettable>=3.1.1 (from pymatgen>=2023->matminer)\n",
            "  Downloading palettable-3.3.3-py2.py3-none-any.whl (332 kB)\n",
            "\u001b[2K     \u001b[90m━━━━━━━━━━━━━━━━━━━━━━━━━━━━━━━━━━━━━━━━\u001b[0m \u001b[32m332.3/332.3 kB\u001b[0m \u001b[31m35.2 MB/s\u001b[0m eta \u001b[36m0:00:00\u001b[0m\n",
            "\u001b[?25hRequirement already satisfied: plotly>=4.5.0 in /usr/local/lib/python3.10/dist-packages (from pymatgen>=2023->matminer) (5.15.0)\n",
            "Collecting pybtex>=0.24.0 (from pymatgen>=2023->matminer)\n",
            "  Downloading pybtex-0.24.0-py2.py3-none-any.whl (561 kB)\n",
            "\u001b[2K     \u001b[90m━━━━━━━━━━━━━━━━━━━━━━━━━━━━━━━━━━━━━━━━\u001b[0m \u001b[32m561.4/561.4 kB\u001b[0m \u001b[31m40.1 MB/s\u001b[0m eta \u001b[36m0:00:00\u001b[0m\n",
            "\u001b[?25hCollecting requests~=2.31 (from matminer)\n",
            "  Downloading requests-2.32.3-py3-none-any.whl (64 kB)\n",
            "\u001b[2K     \u001b[90m━━━━━━━━━━━━━━━━━━━━━━━━━━━━━━━━━━━━━━━━\u001b[0m \u001b[32m64.9/64.9 kB\u001b[0m \u001b[31m8.7 MB/s\u001b[0m eta \u001b[36m0:00:00\u001b[0m\n",
            "\u001b[?25hCollecting ruamel.yaml>=0.17.0 (from pymatgen>=2023->matminer)\n",
            "  Downloading ruamel.yaml-0.18.6-py3-none-any.whl (117 kB)\n",
            "\u001b[2K     \u001b[90m━━━━━━━━━━━━━━━━━━━━━━━━━━━━━━━━━━━━━━━━\u001b[0m \u001b[32m117.8/117.8 kB\u001b[0m \u001b[31m7.0 MB/s\u001b[0m eta \u001b[36m0:00:00\u001b[0m\n",
            "\u001b[?25hCollecting scipy>=1.13.0 (from pymatgen>=2023->matminer)\n",
            "  Downloading scipy-1.13.1-cp310-cp310-manylinux_2_17_x86_64.manylinux2014_x86_64.whl (38.6 MB)\n",
            "\u001b[2K     \u001b[90m━━━━━━━━━━━━━━━━━━━━━━━━━━━━━━━━━━━━━━━━\u001b[0m \u001b[32m38.6/38.6 MB\u001b[0m \u001b[31m10.0 MB/s\u001b[0m eta \u001b[36m0:00:00\u001b[0m\n",
            "\u001b[?25hCollecting spglib>=2.0.2 (from pymatgen>=2023->matminer)\n",
            "  Downloading spglib-2.4.0-cp310-cp310-manylinux_2_17_x86_64.whl (809 kB)\n",
            "\u001b[2K     \u001b[90m━━━━━━━━━━━━━━━━━━━━━━━━━━━━━━━━━━━━━━━━\u001b[0m \u001b[32m809.2/809.2 kB\u001b[0m \u001b[31m46.7 MB/s\u001b[0m eta \u001b[36m0:00:00\u001b[0m\n",
            "\u001b[?25hRequirement already satisfied: tabulate>=0.9 in /usr/local/lib/python3.10/dist-packages (from pymatgen>=2023->matminer) (0.9.0)\n",
            "Collecting uncertainties>=3.1.4 (from pymatgen>=2023->matminer)\n",
            "  Downloading uncertainties-3.2.1-py3-none-any.whl (57 kB)\n",
            "\u001b[2K     \u001b[90m━━━━━━━━━━━━━━━━━━━━━━━━━━━━━━━━━━━━━━━━\u001b[0m \u001b[32m57.9/57.9 kB\u001b[0m \u001b[31m7.4 MB/s\u001b[0m eta \u001b[36m0:00:00\u001b[0m\n",
            "\u001b[?25hRequirement already satisfied: joblib>=1 in /usr/local/lib/python3.10/dist-packages (from pymatgen>=2023->matminer) (1.4.2)\n",
            "Collecting dnspython<3.0.0,>=1.16.0 (from pymongo~=4.5->matminer)\n",
            "  Downloading dnspython-2.6.1-py3-none-any.whl (307 kB)\n",
            "\u001b[2K     \u001b[90m━━━━━━━━━━━━━━━━━━━━━━━━━━━━━━━━━━━━━━━━\u001b[0m \u001b[32m307.7/307.7 kB\u001b[0m \u001b[31m35.2 MB/s\u001b[0m eta \u001b[36m0:00:00\u001b[0m\n",
            "\u001b[?25hRequirement already satisfied: charset-normalizer<4,>=2 in /usr/local/lib/python3.10/dist-packages (from requests~=2.31->matminer) (3.3.2)\n",
            "Requirement already satisfied: idna<4,>=2.5 in /usr/local/lib/python3.10/dist-packages (from requests~=2.31->matminer) (3.7)\n",
            "Requirement already satisfied: urllib3<3,>=1.21.1 in /usr/local/lib/python3.10/dist-packages (from requests~=2.31->matminer) (2.0.7)\n",
            "Requirement already satisfied: certifi>=2017.4.17 in /usr/local/lib/python3.10/dist-packages (from requests~=2.31->matminer) (2024.6.2)\n",
            "Requirement already satisfied: threadpoolctl>=3.1.0 in /usr/local/lib/python3.10/dist-packages (from scikit-learn~=1.3->matminer) (3.5.0)\n",
            "Requirement already satisfied: mpmath<1.4.0,>=1.1.0 in /usr/local/lib/python3.10/dist-packages (from sympy~=1.11->matminer) (1.3.0)\n",
            "Requirement already satisfied: contourpy>=1.0.1 in /usr/local/lib/python3.10/dist-packages (from matplotlib>=3.8->pymatgen>=2023->matminer) (1.2.1)\n",
            "Requirement already satisfied: cycler>=0.10 in /usr/local/lib/python3.10/dist-packages (from matplotlib>=3.8->pymatgen>=2023->matminer) (0.12.1)\n",
            "Requirement already satisfied: fonttools>=4.22.0 in /usr/local/lib/python3.10/dist-packages (from matplotlib>=3.8->pymatgen>=2023->matminer) (4.53.0)\n",
            "Requirement already satisfied: kiwisolver>=1.3.1 in /usr/local/lib/python3.10/dist-packages (from matplotlib>=3.8->pymatgen>=2023->matminer) (1.4.5)\n",
            "Requirement already satisfied: packaging>=20.0 in /usr/local/lib/python3.10/dist-packages (from matplotlib>=3.8->pymatgen>=2023->matminer) (24.1)\n",
            "Requirement already satisfied: pillow>=8 in /usr/local/lib/python3.10/dist-packages (from matplotlib>=3.8->pymatgen>=2023->matminer) (9.4.0)\n",
            "Requirement already satisfied: pyparsing>=2.3.1 in /usr/local/lib/python3.10/dist-packages (from matplotlib>=3.8->pymatgen>=2023->matminer) (3.1.2)\n",
            "Requirement already satisfied: tenacity>=6.2.0 in /usr/local/lib/python3.10/dist-packages (from plotly>=4.5.0->pymatgen>=2023->matminer) (8.3.0)\n",
            "Requirement already satisfied: PyYAML>=3.01 in /usr/local/lib/python3.10/dist-packages (from pybtex>=0.24.0->pymatgen>=2023->matminer) (6.0.1)\n",
            "Collecting latexcodec>=1.0.4 (from pybtex>=0.24.0->pymatgen>=2023->matminer)\n",
            "  Downloading latexcodec-3.0.0-py3-none-any.whl (18 kB)\n",
            "Requirement already satisfied: six in /usr/local/lib/python3.10/dist-packages (from pybtex>=0.24.0->pymatgen>=2023->matminer) (1.16.0)\n",
            "Collecting ruamel.yaml.clib>=0.2.7 (from ruamel.yaml>=0.17.0->pymatgen>=2023->matminer)\n",
            "  Downloading ruamel.yaml.clib-0.2.8-cp310-cp310-manylinux_2_17_x86_64.manylinux2014_x86_64.manylinux_2_24_x86_64.whl (526 kB)\n",
            "\u001b[2K     \u001b[90m━━━━━━━━━━━━━━━━━━━━━━━━━━━━━━━━━━━━━━━━\u001b[0m \u001b[32m526.7/526.7 kB\u001b[0m \u001b[31m47.2 MB/s\u001b[0m eta \u001b[36m0:00:00\u001b[0m\n",
            "\u001b[?25hInstalling collected packages: uncertainties, spglib, scipy, ruamel.yaml.clib, requests, palettable, monty, latexcodec, dnspython, scikit-learn, ruamel.yaml, pymongo, pybtex, matplotlib, pymatgen, matminer\n",
            "  Attempting uninstall: scipy\n",
            "    Found existing installation: scipy 1.11.4\n",
            "    Uninstalling scipy-1.11.4:\n",
            "      Successfully uninstalled scipy-1.11.4\n",
            "  Attempting uninstall: requests\n",
            "    Found existing installation: requests 2.31.0\n",
            "    Uninstalling requests-2.31.0:\n",
            "      Successfully uninstalled requests-2.31.0\n",
            "  Attempting uninstall: scikit-learn\n",
            "    Found existing installation: scikit-learn 1.2.2\n",
            "    Uninstalling scikit-learn-1.2.2:\n",
            "      Successfully uninstalled scikit-learn-1.2.2\n",
            "  Attempting uninstall: matplotlib\n",
            "    Found existing installation: matplotlib 3.7.1\n",
            "    Uninstalling matplotlib-3.7.1:\n",
            "      Successfully uninstalled matplotlib-3.7.1\n",
            "\u001b[31mERROR: pip's dependency resolver does not currently take into account all the packages that are installed. This behaviour is the source of the following dependency conflicts.\n",
            "google-colab 1.0.0 requires requests==2.31.0, but you have requests 2.32.3 which is incompatible.\u001b[0m\u001b[31m\n",
            "\u001b[0mSuccessfully installed dnspython-2.6.1 latexcodec-3.0.0 matminer-0.9.2 matplotlib-3.9.0 monty-2024.5.24 palettable-3.3.3 pybtex-0.24.0 pymatgen-2024.6.10 pymongo-4.7.3 requests-2.32.3 ruamel.yaml-0.18.6 ruamel.yaml.clib-0.2.8 scikit-learn-1.5.0 scipy-1.13.1 spglib-2.4.0 uncertainties-3.2.1\n"
          ]
        }
      ],
      "source": [
        "\n",
        "!pip install CBFV\n",
        "!pip install matminer"
      ]
    },
    {
      "cell_type": "code",
      "source": [
        "import pandas as pd\n",
        "import numpy as np\n",
        "import seaborn as sns\n",
        "from sklearn.preprocessing import normalize, StandardScaler\n",
        "import CBFV\n",
        "import tensorflow as tf\n",
        "from tensorflow.keras.models import Sequential\n",
        "from tensorflow.keras.layers import Dense, Dropout\n",
        "from tensorflow.keras.callbacks import EarlyStopping\n",
        "from CBFV.composition import generate_features as gf\n",
        "import matplotlib.pyplot as plt\n",
        "import warnings\n",
        "from sklearn.model_selection import train_test_split\n",
        "from sklearn.metrics import mean_squared_error, r2_score\n",
        "from sklearn.decomposition import PCA\n",
        "warnings.filterwarnings('ignore')"
      ],
      "metadata": {
        "id": "kiH-VspFlzQM"
      },
      "execution_count": 2,
      "outputs": []
    },
    {
      "cell_type": "code",
      "source": [
        "# Import all data extracted\n",
        "Li_data = pd.read_csv('Li_data.csv')\n",
        "Ca_data = pd.read_csv('Ca_data.csv')\n",
        "Mg_data = pd.read_csv('Mg_data.csv')\n",
        "Cs_data = pd.read_csv('Cs_data.csv')\n",
        "K_data = pd.read_csv('K_data.csv')\n",
        "Na_data = pd.read_csv('Na_data.csv')\n",
        "Al_data = pd.read_csv('Al_data.csv')\n",
        "Rb_data = pd.read_csv('Rb_data.csv')\n",
        "Y_data = pd.read_csv('Y_data.csv')\n",
        "Zn_data = pd.read_csv('Zn_data.csv')"
      ],
      "metadata": {
        "id": "evvFlw8mv2TH"
      },
      "execution_count": 23,
      "outputs": []
    },
    {
      "cell_type": "code",
      "source": [
        "#\n",
        "battery_data = pd.concat([Li_data, Ca_data, Mg_data, Cs_data, K_data, Na_data, Al_data, Rb_data, Y_data, Zn_data])\n",
        "battery_data.reset_index(drop = True, inplace = True)\n",
        "battery_data.to_csv('battery_data.csv', index=False)"
      ],
      "metadata": {
        "id": "YryrwqZywQsh"
      },
      "execution_count": 24,
      "outputs": []
    },
    {
      "cell_type": "code",
      "source": [
        "battery_data.head()"
      ],
      "metadata": {
        "colab": {
          "base_uri": "https://localhost:8080/",
          "height": 360
        },
        "id": "VghmWgLhwdQi",
        "outputId": "fac675ed-c7c0-4895-cdff-4f0d50a01c7d"
      },
      "execution_count": 25,
      "outputs": [
        {
          "output_type": "execute_result",
          "data": {
            "text/plain": [
              "   battery_type    battery_id  thermo_type      battery_formula working_ion  \\\n",
              "0           NaN  mp-757871_Li          NaN         Li2-4CoNi3O8          Li   \n",
              "1           NaN  mp-755220_Li          NaN         Li3-4CrNi3O8          Li   \n",
              "2           NaN  mp-762224_Li          NaN     Li0-4Cu3Sb(PO4)4          Li   \n",
              "3           NaN  mp-759472_Li          NaN         Li1-2Cu(HO)4          Li   \n",
              "4           NaN  mp-772496_Li          NaN  Li0-4Mn3CuNi2(PO4)6          Li   \n",
              "\n",
              "   num_steps  max_voltage_step             last_updated           framework  \\\n",
              "0          2          0.221134  2022-06-28 03:50:55.322          Co1 Ni3 O8   \n",
              "1          1          0.000000  2022-06-28 03:50:55.322          Cr1 Ni3 O8   \n",
              "2          1          0.000000  2022-06-28 03:50:55.322      Cu3 Sb1 P4 O16   \n",
              "3          1          0.000000  2022-06-28 03:50:55.322           Cu1 H4 O4   \n",
              "4          1          0.000000  2022-06-28 03:50:55.322  Mn3 Cu1 Ni2 P6 O24   \n",
              "\n",
              "  framework_formula  ... volume_charge  volume_discharge band_gap_charge  \\\n",
              "0           CoNi3O8  ...    136.932319        138.120131          0.0000   \n",
              "1           CrNi3O8  ...    141.035503        140.519241          0.0000   \n",
              "2       Cu3Sb(PO4)4  ...    288.123451        310.859846          0.0022   \n",
              "3           Cu(HO)4  ...    352.119752        343.634432          1.4109   \n",
              "4    Mn3CuNi2(PO4)6  ...    430.027099        460.683513          0.0000   \n",
              "\n",
              "  band_gap_discharge energy_above_hull_charge energy_above_hull_discharge  \\\n",
              "0             0.0728                 0.033696                    0.005797   \n",
              "1             0.0000                 0.089458                    0.038080   \n",
              "2             0.0000                 0.069619                    0.072188   \n",
              "3             0.0000                 0.081335                    0.079091   \n",
              "4             0.0000                 0.046100                    0.083395   \n",
              "\n",
              "  ordering_charge  ordering_discharge  density_atomic_charge  \\\n",
              "0              FM                 FiM               9.780880   \n",
              "1              FM                 FiM               9.402367   \n",
              "2             FiM                  FM              12.005144   \n",
              "3              NM                  FM               8.802994   \n",
              "4              FM                 FiM              11.945197   \n",
              "\n",
              "   density_atomic_discharge  \n",
              "0                  8.632508  \n",
              "1                  8.782453  \n",
              "2                 11.102137  \n",
              "3                  7.809873  \n",
              "4                 11.517088  \n",
              "\n",
              "[5 rows x 47 columns]"
            ],
            "text/html": [
              "\n",
              "  <div id=\"df-8c98ca70-fd64-491c-9898-4fac530c8754\" class=\"colab-df-container\">\n",
              "    <div>\n",
              "<style scoped>\n",
              "    .dataframe tbody tr th:only-of-type {\n",
              "        vertical-align: middle;\n",
              "    }\n",
              "\n",
              "    .dataframe tbody tr th {\n",
              "        vertical-align: top;\n",
              "    }\n",
              "\n",
              "    .dataframe thead th {\n",
              "        text-align: right;\n",
              "    }\n",
              "</style>\n",
              "<table border=\"1\" class=\"dataframe\">\n",
              "  <thead>\n",
              "    <tr style=\"text-align: right;\">\n",
              "      <th></th>\n",
              "      <th>battery_type</th>\n",
              "      <th>battery_id</th>\n",
              "      <th>thermo_type</th>\n",
              "      <th>battery_formula</th>\n",
              "      <th>working_ion</th>\n",
              "      <th>num_steps</th>\n",
              "      <th>max_voltage_step</th>\n",
              "      <th>last_updated</th>\n",
              "      <th>framework</th>\n",
              "      <th>framework_formula</th>\n",
              "      <th>...</th>\n",
              "      <th>volume_charge</th>\n",
              "      <th>volume_discharge</th>\n",
              "      <th>band_gap_charge</th>\n",
              "      <th>band_gap_discharge</th>\n",
              "      <th>energy_above_hull_charge</th>\n",
              "      <th>energy_above_hull_discharge</th>\n",
              "      <th>ordering_charge</th>\n",
              "      <th>ordering_discharge</th>\n",
              "      <th>density_atomic_charge</th>\n",
              "      <th>density_atomic_discharge</th>\n",
              "    </tr>\n",
              "  </thead>\n",
              "  <tbody>\n",
              "    <tr>\n",
              "      <th>0</th>\n",
              "      <td>NaN</td>\n",
              "      <td>mp-757871_Li</td>\n",
              "      <td>NaN</td>\n",
              "      <td>Li2-4CoNi3O8</td>\n",
              "      <td>Li</td>\n",
              "      <td>2</td>\n",
              "      <td>0.221134</td>\n",
              "      <td>2022-06-28 03:50:55.322</td>\n",
              "      <td>Co1 Ni3 O8</td>\n",
              "      <td>CoNi3O8</td>\n",
              "      <td>...</td>\n",
              "      <td>136.932319</td>\n",
              "      <td>138.120131</td>\n",
              "      <td>0.0000</td>\n",
              "      <td>0.0728</td>\n",
              "      <td>0.033696</td>\n",
              "      <td>0.005797</td>\n",
              "      <td>FM</td>\n",
              "      <td>FiM</td>\n",
              "      <td>9.780880</td>\n",
              "      <td>8.632508</td>\n",
              "    </tr>\n",
              "    <tr>\n",
              "      <th>1</th>\n",
              "      <td>NaN</td>\n",
              "      <td>mp-755220_Li</td>\n",
              "      <td>NaN</td>\n",
              "      <td>Li3-4CrNi3O8</td>\n",
              "      <td>Li</td>\n",
              "      <td>1</td>\n",
              "      <td>0.000000</td>\n",
              "      <td>2022-06-28 03:50:55.322</td>\n",
              "      <td>Cr1 Ni3 O8</td>\n",
              "      <td>CrNi3O8</td>\n",
              "      <td>...</td>\n",
              "      <td>141.035503</td>\n",
              "      <td>140.519241</td>\n",
              "      <td>0.0000</td>\n",
              "      <td>0.0000</td>\n",
              "      <td>0.089458</td>\n",
              "      <td>0.038080</td>\n",
              "      <td>FM</td>\n",
              "      <td>FiM</td>\n",
              "      <td>9.402367</td>\n",
              "      <td>8.782453</td>\n",
              "    </tr>\n",
              "    <tr>\n",
              "      <th>2</th>\n",
              "      <td>NaN</td>\n",
              "      <td>mp-762224_Li</td>\n",
              "      <td>NaN</td>\n",
              "      <td>Li0-4Cu3Sb(PO4)4</td>\n",
              "      <td>Li</td>\n",
              "      <td>1</td>\n",
              "      <td>0.000000</td>\n",
              "      <td>2022-06-28 03:50:55.322</td>\n",
              "      <td>Cu3 Sb1 P4 O16</td>\n",
              "      <td>Cu3Sb(PO4)4</td>\n",
              "      <td>...</td>\n",
              "      <td>288.123451</td>\n",
              "      <td>310.859846</td>\n",
              "      <td>0.0022</td>\n",
              "      <td>0.0000</td>\n",
              "      <td>0.069619</td>\n",
              "      <td>0.072188</td>\n",
              "      <td>FiM</td>\n",
              "      <td>FM</td>\n",
              "      <td>12.005144</td>\n",
              "      <td>11.102137</td>\n",
              "    </tr>\n",
              "    <tr>\n",
              "      <th>3</th>\n",
              "      <td>NaN</td>\n",
              "      <td>mp-759472_Li</td>\n",
              "      <td>NaN</td>\n",
              "      <td>Li1-2Cu(HO)4</td>\n",
              "      <td>Li</td>\n",
              "      <td>1</td>\n",
              "      <td>0.000000</td>\n",
              "      <td>2022-06-28 03:50:55.322</td>\n",
              "      <td>Cu1 H4 O4</td>\n",
              "      <td>Cu(HO)4</td>\n",
              "      <td>...</td>\n",
              "      <td>352.119752</td>\n",
              "      <td>343.634432</td>\n",
              "      <td>1.4109</td>\n",
              "      <td>0.0000</td>\n",
              "      <td>0.081335</td>\n",
              "      <td>0.079091</td>\n",
              "      <td>NM</td>\n",
              "      <td>FM</td>\n",
              "      <td>8.802994</td>\n",
              "      <td>7.809873</td>\n",
              "    </tr>\n",
              "    <tr>\n",
              "      <th>4</th>\n",
              "      <td>NaN</td>\n",
              "      <td>mp-772496_Li</td>\n",
              "      <td>NaN</td>\n",
              "      <td>Li0-4Mn3CuNi2(PO4)6</td>\n",
              "      <td>Li</td>\n",
              "      <td>1</td>\n",
              "      <td>0.000000</td>\n",
              "      <td>2022-06-28 03:50:55.322</td>\n",
              "      <td>Mn3 Cu1 Ni2 P6 O24</td>\n",
              "      <td>Mn3CuNi2(PO4)6</td>\n",
              "      <td>...</td>\n",
              "      <td>430.027099</td>\n",
              "      <td>460.683513</td>\n",
              "      <td>0.0000</td>\n",
              "      <td>0.0000</td>\n",
              "      <td>0.046100</td>\n",
              "      <td>0.083395</td>\n",
              "      <td>FM</td>\n",
              "      <td>FiM</td>\n",
              "      <td>11.945197</td>\n",
              "      <td>11.517088</td>\n",
              "    </tr>\n",
              "  </tbody>\n",
              "</table>\n",
              "<p>5 rows × 47 columns</p>\n",
              "</div>\n",
              "    <div class=\"colab-df-buttons\">\n",
              "\n",
              "  <div class=\"colab-df-container\">\n",
              "    <button class=\"colab-df-convert\" onclick=\"convertToInteractive('df-8c98ca70-fd64-491c-9898-4fac530c8754')\"\n",
              "            title=\"Convert this dataframe to an interactive table.\"\n",
              "            style=\"display:none;\">\n",
              "\n",
              "  <svg xmlns=\"http://www.w3.org/2000/svg\" height=\"24px\" viewBox=\"0 -960 960 960\">\n",
              "    <path d=\"M120-120v-720h720v720H120Zm60-500h600v-160H180v160Zm220 220h160v-160H400v160Zm0 220h160v-160H400v160ZM180-400h160v-160H180v160Zm440 0h160v-160H620v160ZM180-180h160v-160H180v160Zm440 0h160v-160H620v160Z\"/>\n",
              "  </svg>\n",
              "    </button>\n",
              "\n",
              "  <style>\n",
              "    .colab-df-container {\n",
              "      display:flex;\n",
              "      gap: 12px;\n",
              "    }\n",
              "\n",
              "    .colab-df-convert {\n",
              "      background-color: #E8F0FE;\n",
              "      border: none;\n",
              "      border-radius: 50%;\n",
              "      cursor: pointer;\n",
              "      display: none;\n",
              "      fill: #1967D2;\n",
              "      height: 32px;\n",
              "      padding: 0 0 0 0;\n",
              "      width: 32px;\n",
              "    }\n",
              "\n",
              "    .colab-df-convert:hover {\n",
              "      background-color: #E2EBFA;\n",
              "      box-shadow: 0px 1px 2px rgba(60, 64, 67, 0.3), 0px 1px 3px 1px rgba(60, 64, 67, 0.15);\n",
              "      fill: #174EA6;\n",
              "    }\n",
              "\n",
              "    .colab-df-buttons div {\n",
              "      margin-bottom: 4px;\n",
              "    }\n",
              "\n",
              "    [theme=dark] .colab-df-convert {\n",
              "      background-color: #3B4455;\n",
              "      fill: #D2E3FC;\n",
              "    }\n",
              "\n",
              "    [theme=dark] .colab-df-convert:hover {\n",
              "      background-color: #434B5C;\n",
              "      box-shadow: 0px 1px 3px 1px rgba(0, 0, 0, 0.15);\n",
              "      filter: drop-shadow(0px 1px 2px rgba(0, 0, 0, 0.3));\n",
              "      fill: #FFFFFF;\n",
              "    }\n",
              "  </style>\n",
              "\n",
              "    <script>\n",
              "      const buttonEl =\n",
              "        document.querySelector('#df-8c98ca70-fd64-491c-9898-4fac530c8754 button.colab-df-convert');\n",
              "      buttonEl.style.display =\n",
              "        google.colab.kernel.accessAllowed ? 'block' : 'none';\n",
              "\n",
              "      async function convertToInteractive(key) {\n",
              "        const element = document.querySelector('#df-8c98ca70-fd64-491c-9898-4fac530c8754');\n",
              "        const dataTable =\n",
              "          await google.colab.kernel.invokeFunction('convertToInteractive',\n",
              "                                                    [key], {});\n",
              "        if (!dataTable) return;\n",
              "\n",
              "        const docLinkHtml = 'Like what you see? Visit the ' +\n",
              "          '<a target=\"_blank\" href=https://colab.research.google.com/notebooks/data_table.ipynb>data table notebook</a>'\n",
              "          + ' to learn more about interactive tables.';\n",
              "        element.innerHTML = '';\n",
              "        dataTable['output_type'] = 'display_data';\n",
              "        await google.colab.output.renderOutput(dataTable, element);\n",
              "        const docLink = document.createElement('div');\n",
              "        docLink.innerHTML = docLinkHtml;\n",
              "        element.appendChild(docLink);\n",
              "      }\n",
              "    </script>\n",
              "  </div>\n",
              "\n",
              "\n",
              "<div id=\"df-363d8020-b54c-4ac2-977f-cae9e1e7789a\">\n",
              "  <button class=\"colab-df-quickchart\" onclick=\"quickchart('df-363d8020-b54c-4ac2-977f-cae9e1e7789a')\"\n",
              "            title=\"Suggest charts\"\n",
              "            style=\"display:none;\">\n",
              "\n",
              "<svg xmlns=\"http://www.w3.org/2000/svg\" height=\"24px\"viewBox=\"0 0 24 24\"\n",
              "     width=\"24px\">\n",
              "    <g>\n",
              "        <path d=\"M19 3H5c-1.1 0-2 .9-2 2v14c0 1.1.9 2 2 2h14c1.1 0 2-.9 2-2V5c0-1.1-.9-2-2-2zM9 17H7v-7h2v7zm4 0h-2V7h2v10zm4 0h-2v-4h2v4z\"/>\n",
              "    </g>\n",
              "</svg>\n",
              "  </button>\n",
              "\n",
              "<style>\n",
              "  .colab-df-quickchart {\n",
              "      --bg-color: #E8F0FE;\n",
              "      --fill-color: #1967D2;\n",
              "      --hover-bg-color: #E2EBFA;\n",
              "      --hover-fill-color: #174EA6;\n",
              "      --disabled-fill-color: #AAA;\n",
              "      --disabled-bg-color: #DDD;\n",
              "  }\n",
              "\n",
              "  [theme=dark] .colab-df-quickchart {\n",
              "      --bg-color: #3B4455;\n",
              "      --fill-color: #D2E3FC;\n",
              "      --hover-bg-color: #434B5C;\n",
              "      --hover-fill-color: #FFFFFF;\n",
              "      --disabled-bg-color: #3B4455;\n",
              "      --disabled-fill-color: #666;\n",
              "  }\n",
              "\n",
              "  .colab-df-quickchart {\n",
              "    background-color: var(--bg-color);\n",
              "    border: none;\n",
              "    border-radius: 50%;\n",
              "    cursor: pointer;\n",
              "    display: none;\n",
              "    fill: var(--fill-color);\n",
              "    height: 32px;\n",
              "    padding: 0;\n",
              "    width: 32px;\n",
              "  }\n",
              "\n",
              "  .colab-df-quickchart:hover {\n",
              "    background-color: var(--hover-bg-color);\n",
              "    box-shadow: 0 1px 2px rgba(60, 64, 67, 0.3), 0 1px 3px 1px rgba(60, 64, 67, 0.15);\n",
              "    fill: var(--button-hover-fill-color);\n",
              "  }\n",
              "\n",
              "  .colab-df-quickchart-complete:disabled,\n",
              "  .colab-df-quickchart-complete:disabled:hover {\n",
              "    background-color: var(--disabled-bg-color);\n",
              "    fill: var(--disabled-fill-color);\n",
              "    box-shadow: none;\n",
              "  }\n",
              "\n",
              "  .colab-df-spinner {\n",
              "    border: 2px solid var(--fill-color);\n",
              "    border-color: transparent;\n",
              "    border-bottom-color: var(--fill-color);\n",
              "    animation:\n",
              "      spin 1s steps(1) infinite;\n",
              "  }\n",
              "\n",
              "  @keyframes spin {\n",
              "    0% {\n",
              "      border-color: transparent;\n",
              "      border-bottom-color: var(--fill-color);\n",
              "      border-left-color: var(--fill-color);\n",
              "    }\n",
              "    20% {\n",
              "      border-color: transparent;\n",
              "      border-left-color: var(--fill-color);\n",
              "      border-top-color: var(--fill-color);\n",
              "    }\n",
              "    30% {\n",
              "      border-color: transparent;\n",
              "      border-left-color: var(--fill-color);\n",
              "      border-top-color: var(--fill-color);\n",
              "      border-right-color: var(--fill-color);\n",
              "    }\n",
              "    40% {\n",
              "      border-color: transparent;\n",
              "      border-right-color: var(--fill-color);\n",
              "      border-top-color: var(--fill-color);\n",
              "    }\n",
              "    60% {\n",
              "      border-color: transparent;\n",
              "      border-right-color: var(--fill-color);\n",
              "    }\n",
              "    80% {\n",
              "      border-color: transparent;\n",
              "      border-right-color: var(--fill-color);\n",
              "      border-bottom-color: var(--fill-color);\n",
              "    }\n",
              "    90% {\n",
              "      border-color: transparent;\n",
              "      border-bottom-color: var(--fill-color);\n",
              "    }\n",
              "  }\n",
              "</style>\n",
              "\n",
              "  <script>\n",
              "    async function quickchart(key) {\n",
              "      const quickchartButtonEl =\n",
              "        document.querySelector('#' + key + ' button');\n",
              "      quickchartButtonEl.disabled = true;  // To prevent multiple clicks.\n",
              "      quickchartButtonEl.classList.add('colab-df-spinner');\n",
              "      try {\n",
              "        const charts = await google.colab.kernel.invokeFunction(\n",
              "            'suggestCharts', [key], {});\n",
              "      } catch (error) {\n",
              "        console.error('Error during call to suggestCharts:', error);\n",
              "      }\n",
              "      quickchartButtonEl.classList.remove('colab-df-spinner');\n",
              "      quickchartButtonEl.classList.add('colab-df-quickchart-complete');\n",
              "    }\n",
              "    (() => {\n",
              "      let quickchartButtonEl =\n",
              "        document.querySelector('#df-363d8020-b54c-4ac2-977f-cae9e1e7789a button');\n",
              "      quickchartButtonEl.style.display =\n",
              "        google.colab.kernel.accessAllowed ? 'block' : 'none';\n",
              "    })();\n",
              "  </script>\n",
              "</div>\n",
              "\n",
              "    </div>\n",
              "  </div>\n"
            ],
            "application/vnd.google.colaboratory.intrinsic+json": {
              "type": "dataframe",
              "variable_name": "battery_data"
            }
          },
          "metadata": {},
          "execution_count": 25
        }
      ]
    },
    {
      "cell_type": "code",
      "source": [
        "# Assign redundant columns to a variable\n",
        "irrelevant_columns = ['battery_type', 'battery_id', 'thermo_type', 'last_updated', 'id_charge', 'id_discharge', 'host_structure', 'adj_pairs',\n",
        "                     'material_ids', 'entries_composition_summary', 'electrode_object', 'fields_not_requested', 'elements', 'framework', 'warnings',\n",
        "                     'formula_charge', 'formula_discharge', 'formula_anonymous', 'chemsys', 'battery_formula']"
      ],
      "metadata": {
        "id": "l4IJ_NSawwGi"
      },
      "execution_count": 26,
      "outputs": []
    },
    {
      "cell_type": "code",
      "source": [
        "# Remove redundancy\n",
        "battery_data.drop(irrelevant_columns, axis=1, inplace=True)"
      ],
      "metadata": {
        "id": "D_X018fwUNK2"
      },
      "execution_count": 27,
      "outputs": []
    },
    {
      "cell_type": "code",
      "source": [
        "battery_data.head()"
      ],
      "metadata": {
        "id": "XnFB5sMdxYOp",
        "colab": {
          "base_uri": "https://localhost:8080/",
          "height": 256
        },
        "outputId": "b6c7757b-8c59-447e-fe66-060f58cd69d6"
      },
      "execution_count": 28,
      "outputs": [
        {
          "output_type": "execute_result",
          "data": {
            "text/plain": [
              "  working_ion  num_steps  max_voltage_step framework_formula  nelements  \\\n",
              "0          Li          2          0.221134           CoNi3O8          3   \n",
              "1          Li          1          0.000000           CrNi3O8          3   \n",
              "2          Li          1          0.000000       Cu3Sb(PO4)4          4   \n",
              "3          Li          1          0.000000           Cu(HO)4          3   \n",
              "4          Li          1          0.000000    Mn3CuNi2(PO4)6          5   \n",
              "\n",
              "   max_delta_volume  average_voltage  capacity_grav  capacity_vol  \\\n",
              "0          0.008674         3.645088     137.171754    644.437651   \n",
              "1          0.003674         3.555958      69.825436    316.717528   \n",
              "2          0.078912         3.637514     148.887306    572.668449   \n",
              "3          0.024693         2.901634     184.256618    518.049443   \n",
              "4          0.071289         3.757691     113.645161    386.424999   \n",
              "\n",
              "   energy_grav  ...  volume_charge  volume_discharge  band_gap_charge  \\\n",
              "0   500.003153  ...     136.932319        138.120131           0.0000   \n",
              "1   248.296319  ...     141.035503        140.519241           0.0000   \n",
              "2   541.579600  ...     288.123451        310.859846           0.0022   \n",
              "3   534.645191  ...     352.119752        343.634432           1.4109   \n",
              "4   427.043409  ...     430.027099        460.683513           0.0000   \n",
              "\n",
              "   band_gap_discharge  energy_above_hull_charge  energy_above_hull_discharge  \\\n",
              "0              0.0728                  0.033696                     0.005797   \n",
              "1              0.0000                  0.089458                     0.038080   \n",
              "2              0.0000                  0.069619                     0.072188   \n",
              "3              0.0000                  0.081335                     0.079091   \n",
              "4              0.0000                  0.046100                     0.083395   \n",
              "\n",
              "   ordering_charge  ordering_discharge  density_atomic_charge  \\\n",
              "0               FM                 FiM               9.780880   \n",
              "1               FM                 FiM               9.402367   \n",
              "2              FiM                  FM              12.005144   \n",
              "3               NM                  FM               8.802994   \n",
              "4               FM                 FiM              11.945197   \n",
              "\n",
              "   density_atomic_discharge  \n",
              "0                  8.632508  \n",
              "1                  8.782453  \n",
              "2                 11.102137  \n",
              "3                  7.809873  \n",
              "4                 11.517088  \n",
              "\n",
              "[5 rows x 27 columns]"
            ],
            "text/html": [
              "\n",
              "  <div id=\"df-991029be-15b6-4171-b1a8-d4b85489b125\" class=\"colab-df-container\">\n",
              "    <div>\n",
              "<style scoped>\n",
              "    .dataframe tbody tr th:only-of-type {\n",
              "        vertical-align: middle;\n",
              "    }\n",
              "\n",
              "    .dataframe tbody tr th {\n",
              "        vertical-align: top;\n",
              "    }\n",
              "\n",
              "    .dataframe thead th {\n",
              "        text-align: right;\n",
              "    }\n",
              "</style>\n",
              "<table border=\"1\" class=\"dataframe\">\n",
              "  <thead>\n",
              "    <tr style=\"text-align: right;\">\n",
              "      <th></th>\n",
              "      <th>working_ion</th>\n",
              "      <th>num_steps</th>\n",
              "      <th>max_voltage_step</th>\n",
              "      <th>framework_formula</th>\n",
              "      <th>nelements</th>\n",
              "      <th>max_delta_volume</th>\n",
              "      <th>average_voltage</th>\n",
              "      <th>capacity_grav</th>\n",
              "      <th>capacity_vol</th>\n",
              "      <th>energy_grav</th>\n",
              "      <th>...</th>\n",
              "      <th>volume_charge</th>\n",
              "      <th>volume_discharge</th>\n",
              "      <th>band_gap_charge</th>\n",
              "      <th>band_gap_discharge</th>\n",
              "      <th>energy_above_hull_charge</th>\n",
              "      <th>energy_above_hull_discharge</th>\n",
              "      <th>ordering_charge</th>\n",
              "      <th>ordering_discharge</th>\n",
              "      <th>density_atomic_charge</th>\n",
              "      <th>density_atomic_discharge</th>\n",
              "    </tr>\n",
              "  </thead>\n",
              "  <tbody>\n",
              "    <tr>\n",
              "      <th>0</th>\n",
              "      <td>Li</td>\n",
              "      <td>2</td>\n",
              "      <td>0.221134</td>\n",
              "      <td>CoNi3O8</td>\n",
              "      <td>3</td>\n",
              "      <td>0.008674</td>\n",
              "      <td>3.645088</td>\n",
              "      <td>137.171754</td>\n",
              "      <td>644.437651</td>\n",
              "      <td>500.003153</td>\n",
              "      <td>...</td>\n",
              "      <td>136.932319</td>\n",
              "      <td>138.120131</td>\n",
              "      <td>0.0000</td>\n",
              "      <td>0.0728</td>\n",
              "      <td>0.033696</td>\n",
              "      <td>0.005797</td>\n",
              "      <td>FM</td>\n",
              "      <td>FiM</td>\n",
              "      <td>9.780880</td>\n",
              "      <td>8.632508</td>\n",
              "    </tr>\n",
              "    <tr>\n",
              "      <th>1</th>\n",
              "      <td>Li</td>\n",
              "      <td>1</td>\n",
              "      <td>0.000000</td>\n",
              "      <td>CrNi3O8</td>\n",
              "      <td>3</td>\n",
              "      <td>0.003674</td>\n",
              "      <td>3.555958</td>\n",
              "      <td>69.825436</td>\n",
              "      <td>316.717528</td>\n",
              "      <td>248.296319</td>\n",
              "      <td>...</td>\n",
              "      <td>141.035503</td>\n",
              "      <td>140.519241</td>\n",
              "      <td>0.0000</td>\n",
              "      <td>0.0000</td>\n",
              "      <td>0.089458</td>\n",
              "      <td>0.038080</td>\n",
              "      <td>FM</td>\n",
              "      <td>FiM</td>\n",
              "      <td>9.402367</td>\n",
              "      <td>8.782453</td>\n",
              "    </tr>\n",
              "    <tr>\n",
              "      <th>2</th>\n",
              "      <td>Li</td>\n",
              "      <td>1</td>\n",
              "      <td>0.000000</td>\n",
              "      <td>Cu3Sb(PO4)4</td>\n",
              "      <td>4</td>\n",
              "      <td>0.078912</td>\n",
              "      <td>3.637514</td>\n",
              "      <td>148.887306</td>\n",
              "      <td>572.668449</td>\n",
              "      <td>541.579600</td>\n",
              "      <td>...</td>\n",
              "      <td>288.123451</td>\n",
              "      <td>310.859846</td>\n",
              "      <td>0.0022</td>\n",
              "      <td>0.0000</td>\n",
              "      <td>0.069619</td>\n",
              "      <td>0.072188</td>\n",
              "      <td>FiM</td>\n",
              "      <td>FM</td>\n",
              "      <td>12.005144</td>\n",
              "      <td>11.102137</td>\n",
              "    </tr>\n",
              "    <tr>\n",
              "      <th>3</th>\n",
              "      <td>Li</td>\n",
              "      <td>1</td>\n",
              "      <td>0.000000</td>\n",
              "      <td>Cu(HO)4</td>\n",
              "      <td>3</td>\n",
              "      <td>0.024693</td>\n",
              "      <td>2.901634</td>\n",
              "      <td>184.256618</td>\n",
              "      <td>518.049443</td>\n",
              "      <td>534.645191</td>\n",
              "      <td>...</td>\n",
              "      <td>352.119752</td>\n",
              "      <td>343.634432</td>\n",
              "      <td>1.4109</td>\n",
              "      <td>0.0000</td>\n",
              "      <td>0.081335</td>\n",
              "      <td>0.079091</td>\n",
              "      <td>NM</td>\n",
              "      <td>FM</td>\n",
              "      <td>8.802994</td>\n",
              "      <td>7.809873</td>\n",
              "    </tr>\n",
              "    <tr>\n",
              "      <th>4</th>\n",
              "      <td>Li</td>\n",
              "      <td>1</td>\n",
              "      <td>0.000000</td>\n",
              "      <td>Mn3CuNi2(PO4)6</td>\n",
              "      <td>5</td>\n",
              "      <td>0.071289</td>\n",
              "      <td>3.757691</td>\n",
              "      <td>113.645161</td>\n",
              "      <td>386.424999</td>\n",
              "      <td>427.043409</td>\n",
              "      <td>...</td>\n",
              "      <td>430.027099</td>\n",
              "      <td>460.683513</td>\n",
              "      <td>0.0000</td>\n",
              "      <td>0.0000</td>\n",
              "      <td>0.046100</td>\n",
              "      <td>0.083395</td>\n",
              "      <td>FM</td>\n",
              "      <td>FiM</td>\n",
              "      <td>11.945197</td>\n",
              "      <td>11.517088</td>\n",
              "    </tr>\n",
              "  </tbody>\n",
              "</table>\n",
              "<p>5 rows × 27 columns</p>\n",
              "</div>\n",
              "    <div class=\"colab-df-buttons\">\n",
              "\n",
              "  <div class=\"colab-df-container\">\n",
              "    <button class=\"colab-df-convert\" onclick=\"convertToInteractive('df-991029be-15b6-4171-b1a8-d4b85489b125')\"\n",
              "            title=\"Convert this dataframe to an interactive table.\"\n",
              "            style=\"display:none;\">\n",
              "\n",
              "  <svg xmlns=\"http://www.w3.org/2000/svg\" height=\"24px\" viewBox=\"0 -960 960 960\">\n",
              "    <path d=\"M120-120v-720h720v720H120Zm60-500h600v-160H180v160Zm220 220h160v-160H400v160Zm0 220h160v-160H400v160ZM180-400h160v-160H180v160Zm440 0h160v-160H620v160ZM180-180h160v-160H180v160Zm440 0h160v-160H620v160Z\"/>\n",
              "  </svg>\n",
              "    </button>\n",
              "\n",
              "  <style>\n",
              "    .colab-df-container {\n",
              "      display:flex;\n",
              "      gap: 12px;\n",
              "    }\n",
              "\n",
              "    .colab-df-convert {\n",
              "      background-color: #E8F0FE;\n",
              "      border: none;\n",
              "      border-radius: 50%;\n",
              "      cursor: pointer;\n",
              "      display: none;\n",
              "      fill: #1967D2;\n",
              "      height: 32px;\n",
              "      padding: 0 0 0 0;\n",
              "      width: 32px;\n",
              "    }\n",
              "\n",
              "    .colab-df-convert:hover {\n",
              "      background-color: #E2EBFA;\n",
              "      box-shadow: 0px 1px 2px rgba(60, 64, 67, 0.3), 0px 1px 3px 1px rgba(60, 64, 67, 0.15);\n",
              "      fill: #174EA6;\n",
              "    }\n",
              "\n",
              "    .colab-df-buttons div {\n",
              "      margin-bottom: 4px;\n",
              "    }\n",
              "\n",
              "    [theme=dark] .colab-df-convert {\n",
              "      background-color: #3B4455;\n",
              "      fill: #D2E3FC;\n",
              "    }\n",
              "\n",
              "    [theme=dark] .colab-df-convert:hover {\n",
              "      background-color: #434B5C;\n",
              "      box-shadow: 0px 1px 3px 1px rgba(0, 0, 0, 0.15);\n",
              "      filter: drop-shadow(0px 1px 2px rgba(0, 0, 0, 0.3));\n",
              "      fill: #FFFFFF;\n",
              "    }\n",
              "  </style>\n",
              "\n",
              "    <script>\n",
              "      const buttonEl =\n",
              "        document.querySelector('#df-991029be-15b6-4171-b1a8-d4b85489b125 button.colab-df-convert');\n",
              "      buttonEl.style.display =\n",
              "        google.colab.kernel.accessAllowed ? 'block' : 'none';\n",
              "\n",
              "      async function convertToInteractive(key) {\n",
              "        const element = document.querySelector('#df-991029be-15b6-4171-b1a8-d4b85489b125');\n",
              "        const dataTable =\n",
              "          await google.colab.kernel.invokeFunction('convertToInteractive',\n",
              "                                                    [key], {});\n",
              "        if (!dataTable) return;\n",
              "\n",
              "        const docLinkHtml = 'Like what you see? Visit the ' +\n",
              "          '<a target=\"_blank\" href=https://colab.research.google.com/notebooks/data_table.ipynb>data table notebook</a>'\n",
              "          + ' to learn more about interactive tables.';\n",
              "        element.innerHTML = '';\n",
              "        dataTable['output_type'] = 'display_data';\n",
              "        await google.colab.output.renderOutput(dataTable, element);\n",
              "        const docLink = document.createElement('div');\n",
              "        docLink.innerHTML = docLinkHtml;\n",
              "        element.appendChild(docLink);\n",
              "      }\n",
              "    </script>\n",
              "  </div>\n",
              "\n",
              "\n",
              "<div id=\"df-fd36408e-de51-4afb-a4d3-0c3d80423cb7\">\n",
              "  <button class=\"colab-df-quickchart\" onclick=\"quickchart('df-fd36408e-de51-4afb-a4d3-0c3d80423cb7')\"\n",
              "            title=\"Suggest charts\"\n",
              "            style=\"display:none;\">\n",
              "\n",
              "<svg xmlns=\"http://www.w3.org/2000/svg\" height=\"24px\"viewBox=\"0 0 24 24\"\n",
              "     width=\"24px\">\n",
              "    <g>\n",
              "        <path d=\"M19 3H5c-1.1 0-2 .9-2 2v14c0 1.1.9 2 2 2h14c1.1 0 2-.9 2-2V5c0-1.1-.9-2-2-2zM9 17H7v-7h2v7zm4 0h-2V7h2v10zm4 0h-2v-4h2v4z\"/>\n",
              "    </g>\n",
              "</svg>\n",
              "  </button>\n",
              "\n",
              "<style>\n",
              "  .colab-df-quickchart {\n",
              "      --bg-color: #E8F0FE;\n",
              "      --fill-color: #1967D2;\n",
              "      --hover-bg-color: #E2EBFA;\n",
              "      --hover-fill-color: #174EA6;\n",
              "      --disabled-fill-color: #AAA;\n",
              "      --disabled-bg-color: #DDD;\n",
              "  }\n",
              "\n",
              "  [theme=dark] .colab-df-quickchart {\n",
              "      --bg-color: #3B4455;\n",
              "      --fill-color: #D2E3FC;\n",
              "      --hover-bg-color: #434B5C;\n",
              "      --hover-fill-color: #FFFFFF;\n",
              "      --disabled-bg-color: #3B4455;\n",
              "      --disabled-fill-color: #666;\n",
              "  }\n",
              "\n",
              "  .colab-df-quickchart {\n",
              "    background-color: var(--bg-color);\n",
              "    border: none;\n",
              "    border-radius: 50%;\n",
              "    cursor: pointer;\n",
              "    display: none;\n",
              "    fill: var(--fill-color);\n",
              "    height: 32px;\n",
              "    padding: 0;\n",
              "    width: 32px;\n",
              "  }\n",
              "\n",
              "  .colab-df-quickchart:hover {\n",
              "    background-color: var(--hover-bg-color);\n",
              "    box-shadow: 0 1px 2px rgba(60, 64, 67, 0.3), 0 1px 3px 1px rgba(60, 64, 67, 0.15);\n",
              "    fill: var(--button-hover-fill-color);\n",
              "  }\n",
              "\n",
              "  .colab-df-quickchart-complete:disabled,\n",
              "  .colab-df-quickchart-complete:disabled:hover {\n",
              "    background-color: var(--disabled-bg-color);\n",
              "    fill: var(--disabled-fill-color);\n",
              "    box-shadow: none;\n",
              "  }\n",
              "\n",
              "  .colab-df-spinner {\n",
              "    border: 2px solid var(--fill-color);\n",
              "    border-color: transparent;\n",
              "    border-bottom-color: var(--fill-color);\n",
              "    animation:\n",
              "      spin 1s steps(1) infinite;\n",
              "  }\n",
              "\n",
              "  @keyframes spin {\n",
              "    0% {\n",
              "      border-color: transparent;\n",
              "      border-bottom-color: var(--fill-color);\n",
              "      border-left-color: var(--fill-color);\n",
              "    }\n",
              "    20% {\n",
              "      border-color: transparent;\n",
              "      border-left-color: var(--fill-color);\n",
              "      border-top-color: var(--fill-color);\n",
              "    }\n",
              "    30% {\n",
              "      border-color: transparent;\n",
              "      border-left-color: var(--fill-color);\n",
              "      border-top-color: var(--fill-color);\n",
              "      border-right-color: var(--fill-color);\n",
              "    }\n",
              "    40% {\n",
              "      border-color: transparent;\n",
              "      border-right-color: var(--fill-color);\n",
              "      border-top-color: var(--fill-color);\n",
              "    }\n",
              "    60% {\n",
              "      border-color: transparent;\n",
              "      border-right-color: var(--fill-color);\n",
              "    }\n",
              "    80% {\n",
              "      border-color: transparent;\n",
              "      border-right-color: var(--fill-color);\n",
              "      border-bottom-color: var(--fill-color);\n",
              "    }\n",
              "    90% {\n",
              "      border-color: transparent;\n",
              "      border-bottom-color: var(--fill-color);\n",
              "    }\n",
              "  }\n",
              "</style>\n",
              "\n",
              "  <script>\n",
              "    async function quickchart(key) {\n",
              "      const quickchartButtonEl =\n",
              "        document.querySelector('#' + key + ' button');\n",
              "      quickchartButtonEl.disabled = true;  // To prevent multiple clicks.\n",
              "      quickchartButtonEl.classList.add('colab-df-spinner');\n",
              "      try {\n",
              "        const charts = await google.colab.kernel.invokeFunction(\n",
              "            'suggestCharts', [key], {});\n",
              "      } catch (error) {\n",
              "        console.error('Error during call to suggestCharts:', error);\n",
              "      }\n",
              "      quickchartButtonEl.classList.remove('colab-df-spinner');\n",
              "      quickchartButtonEl.classList.add('colab-df-quickchart-complete');\n",
              "    }\n",
              "    (() => {\n",
              "      let quickchartButtonEl =\n",
              "        document.querySelector('#df-fd36408e-de51-4afb-a4d3-0c3d80423cb7 button');\n",
              "      quickchartButtonEl.style.display =\n",
              "        google.colab.kernel.accessAllowed ? 'block' : 'none';\n",
              "    })();\n",
              "  </script>\n",
              "</div>\n",
              "\n",
              "    </div>\n",
              "  </div>\n"
            ],
            "application/vnd.google.colaboratory.intrinsic+json": {
              "type": "dataframe",
              "variable_name": "battery_data"
            }
          },
          "metadata": {},
          "execution_count": 28
        }
      ]
    },
    {
      "cell_type": "code",
      "source": [
        "plt.figure(figsize=(10, 6))\n",
        "ax = sns.countplot(battery_data['working_ion'], palette='viridis')\n",
        "\n",
        "# Get the unique categories and their counts\n",
        "categories = battery_data['working_ion'].value_counts().index.tolist()\n",
        "counts = battery_data['working_ion'].value_counts().tolist()\n",
        "\n",
        "# Create custom legend\n",
        "legend_labels = [f'{cat}: {count}' for cat, count in zip(categories, counts)]\n",
        "ax.legend(handles=ax.patches, labels=legend_labels, title='Counts')"
      ],
      "metadata": {
        "colab": {
          "base_uri": "https://localhost:8080/",
          "height": 559
        },
        "id": "-E6sgUT_CdYn",
        "outputId": "e596f6d5-3b8b-442e-a4d6-29669df29d0d"
      },
      "execution_count": 29,
      "outputs": [
        {
          "output_type": "execute_result",
          "data": {
            "text/plain": [
              "<matplotlib.legend.Legend at 0x78e4dbebd840>"
            ]
          },
          "metadata": {},
          "execution_count": 29
        },
        {
          "output_type": "display_data",
          "data": {
            "text/plain": [
              "<Figure size 1000x600 with 1 Axes>"
            ],
            "image/png": "[encoded data removed]"
          },
          "metadata": {}
        }
      ]
    },
    {
      "cell_type": "code",
      "source": [
        "# Display battery data information\n",
        "sns.heatmap(battery_data.isnull(), cbar=False)"
      ],
      "metadata": {
        "colab": {
          "base_uri": "https://localhost:8080/",
          "height": 645
        },
        "id": "aHlnqc7sxYNg",
        "outputId": "a3fe6d49-8c91-48f3-de2c-81291a3f68e6"
      },
      "execution_count": 30,
      "outputs": [
        {
          "output_type": "execute_result",
          "data": {
            "text/plain": [
              "<Axes: >"
            ]
          },
          "metadata": {},
          "execution_count": 30
        },
        {
          "output_type": "display_data",
          "data": {
            "text/plain": [
              "<Figure size 640x480 with 1 Axes>"
            ],
            "image/png": "[encoded data removed]"
          },
          "metadata": {}
        }
      ]
    },
    {
      "cell_type": "code",
      "source": [
        "#\n",
        "battery_data.dropna(inplace=True)\n",
        "battery_data.reset_index(drop = True, inplace = True)"
      ],
      "metadata": {
        "id": "7cMin-hDxU1Q"
      },
      "execution_count": 31,
      "outputs": []
    },
    {
      "cell_type": "code",
      "source": [
        "sns.heatmap(battery_data.isnull(), cbar=False)"
      ],
      "metadata": {
        "id": "PWPmXQqO7bMS",
        "colab": {
          "base_uri": "https://localhost:8080/",
          "height": 645
        },
        "outputId": "4029c7b6-1c43-4aa7-8512-9c00db292670"
      },
      "execution_count": 32,
      "outputs": [
        {
          "output_type": "execute_result",
          "data": {
            "text/plain": [
              "<Axes: >"
            ]
          },
          "metadata": {},
          "execution_count": 32
        },
        {
          "output_type": "display_data",
          "data": {
            "text/plain": [
              "<Figure size 640x480 with 1 Axes>"
            ],
            "image/png": "[encoded data removed]"
          },
          "metadata": {}
        }
      ]
    },
    {
      "cell_type": "code",
      "source": [
        "battery_data.info()"
      ],
      "metadata": {
        "colab": {
          "base_uri": "https://localhost:8080/"
        },
        "id": "D1MH5lvLUlEy",
        "outputId": "4c64da6b-1dc6-46f7-c259-8d51ba4eb0ff"
      },
      "execution_count": 33,
      "outputs": [
        {
          "output_type": "stream",
          "name": "stdout",
          "text": [
            "<class 'pandas.core.frame.DataFrame'>\n",
            "RangeIndex: 4238 entries, 0 to 4237\n",
            "Data columns (total 27 columns):\n",
            " #   Column                       Non-Null Count  Dtype  \n",
            "---  ------                       --------------  -----  \n",
            " 0   working_ion                  4238 non-null   object \n",
            " 1   num_steps                    4238 non-null   int64  \n",
            " 2   max_voltage_step             4238 non-null   float64\n",
            " 3   framework_formula            4238 non-null   object \n",
            " 4   nelements                    4238 non-null   int64  \n",
            " 5   max_delta_volume             4238 non-null   float64\n",
            " 6   average_voltage              4238 non-null   float64\n",
            " 7   capacity_grav                4238 non-null   float64\n",
            " 8   capacity_vol                 4238 non-null   float64\n",
            " 9   energy_grav                  4238 non-null   float64\n",
            " 10  energy_vol                   4238 non-null   float64\n",
            " 11  fracA_charge                 4238 non-null   float64\n",
            " 12  fracA_discharge              4238 non-null   float64\n",
            " 13  stability_charge             4238 non-null   float64\n",
            " 14  stability_discharge          4238 non-null   float64\n",
            " 15  density_charge               4238 non-null   float64\n",
            " 16  density_discharge            4238 non-null   float64\n",
            " 17  volume_charge                4238 non-null   float64\n",
            " 18  volume_discharge             4238 non-null   float64\n",
            " 19  band_gap_charge              4238 non-null   float64\n",
            " 20  band_gap_discharge           4238 non-null   float64\n",
            " 21  energy_above_hull_charge     4238 non-null   float64\n",
            " 22  energy_above_hull_discharge  4238 non-null   float64\n",
            " 23  ordering_charge              4238 non-null   object \n",
            " 24  ordering_discharge           4238 non-null   object \n",
            " 25  density_atomic_charge        4238 non-null   float64\n",
            " 26  density_atomic_discharge     4238 non-null   float64\n",
            "dtypes: float64(21), int64(2), object(4)\n",
            "memory usage: 894.1+ KB\n"
          ]
        }
      ]
    },
    {
      "cell_type": "markdown",
      "source": [
        "# **FEATURIZATION**"
      ],
      "metadata": {
        "id": "ILJ25cVqUvaa"
      }
    },
    {
      "cell_type": "code",
      "source": [
        "#Replace catergorical data in one hot style##\n",
        "battery_data = pd.get_dummies(battery_data, columns=['working_ion'], prefix = ['working_ion'], dtype = float)\n",
        "battery_data = pd.get_dummies(battery_data, columns=['ordering_charge'], prefix = ['ordering_charge'], dtype = float)\n",
        "battery_data = pd.get_dummies(battery_data, columns=['ordering_discharge'], prefix = ['ordering_discharge'], dtype = float)"
      ],
      "metadata": {
        "id": "3lWSWF3wGX16"
      },
      "execution_count": 34,
      "outputs": []
    },
    {
      "cell_type": "code",
      "source": [
        "battery_data.info()"
      ],
      "metadata": {
        "colab": {
          "base_uri": "https://localhost:8080/"
        },
        "id": "3I12UGuTm5Tq",
        "outputId": "6f263b04-8aee-4b54-8f24-f49a92c3f6dd"
      },
      "execution_count": 35,
      "outputs": [
        {
          "output_type": "stream",
          "name": "stdout",
          "text": [
            "<class 'pandas.core.frame.DataFrame'>\n",
            "RangeIndex: 4238 entries, 0 to 4237\n",
            "Data columns (total 44 columns):\n",
            " #   Column                       Non-Null Count  Dtype  \n",
            "---  ------                       --------------  -----  \n",
            " 0   num_steps                    4238 non-null   int64  \n",
            " 1   max_voltage_step             4238 non-null   float64\n",
            " 2   framework_formula            4238 non-null   object \n",
            " 3   nelements                    4238 non-null   int64  \n",
            " 4   max_delta_volume             4238 non-null   float64\n",
            " 5   average_voltage              4238 non-null   float64\n",
            " 6   capacity_grav                4238 non-null   float64\n",
            " 7   capacity_vol                 4238 non-null   float64\n",
            " 8   energy_grav                  4238 non-null   float64\n",
            " 9   energy_vol                   4238 non-null   float64\n",
            " 10  fracA_charge                 4238 non-null   float64\n",
            " 11  fracA_discharge              4238 non-null   float64\n",
            " 12  stability_charge             4238 non-null   float64\n",
            " 13  stability_discharge          4238 non-null   float64\n",
            " 14  density_charge               4238 non-null   float64\n",
            " 15  density_discharge            4238 non-null   float64\n",
            " 16  volume_charge                4238 non-null   float64\n",
            " 17  volume_discharge             4238 non-null   float64\n",
            " 18  band_gap_charge              4238 non-null   float64\n",
            " 19  band_gap_discharge           4238 non-null   float64\n",
            " 20  energy_above_hull_charge     4238 non-null   float64\n",
            " 21  energy_above_hull_discharge  4238 non-null   float64\n",
            " 22  density_atomic_charge        4238 non-null   float64\n",
            " 23  density_atomic_discharge     4238 non-null   float64\n",
            " 24  working_ion_Al               4238 non-null   float64\n",
            " 25  working_ion_Ca               4238 non-null   float64\n",
            " 26  working_ion_Cs               4238 non-null   float64\n",
            " 27  working_ion_K                4238 non-null   float64\n",
            " 28  working_ion_Li               4238 non-null   float64\n",
            " 29  working_ion_Mg               4238 non-null   float64\n",
            " 30  working_ion_Na               4238 non-null   float64\n",
            " 31  working_ion_Rb               4238 non-null   float64\n",
            " 32  working_ion_Y                4238 non-null   float64\n",
            " 33  working_ion_Zn               4238 non-null   float64\n",
            " 34  ordering_charge_AFM          4238 non-null   float64\n",
            " 35  ordering_charge_FM           4238 non-null   float64\n",
            " 36  ordering_charge_FiM          4238 non-null   float64\n",
            " 37  ordering_charge_NM           4238 non-null   float64\n",
            " 38  ordering_charge_Unknown      4238 non-null   float64\n",
            " 39  ordering_discharge_AFM       4238 non-null   float64\n",
            " 40  ordering_discharge_FM        4238 non-null   float64\n",
            " 41  ordering_discharge_FiM       4238 non-null   float64\n",
            " 42  ordering_discharge_NM        4238 non-null   float64\n",
            " 43  ordering_discharge_Unknown   4238 non-null   float64\n",
            "dtypes: float64(41), int64(2), object(1)\n",
            "memory usage: 1.4+ MB\n"
          ]
        }
      ]
    },
    {
      "cell_type": "code",
      "source": [
        "sample_data = battery_data[['framework_formula','average_voltage' ]]"
      ],
      "metadata": {
        "id": "mhC1JpnSmc37"
      },
      "execution_count": 36,
      "outputs": []
    },
    {
      "cell_type": "code",
      "source": [
        "sample_data.info()"
      ],
      "metadata": {
        "colab": {
          "base_uri": "https://localhost:8080/"
        },
        "id": "TuxqTKlrSX29",
        "outputId": "4b0ffa02-7bdd-493f-d79b-49bc1cd3c6a1"
      },
      "execution_count": 37,
      "outputs": [
        {
          "output_type": "stream",
          "name": "stdout",
          "text": [
            "<class 'pandas.core.frame.DataFrame'>\n",
            "RangeIndex: 4238 entries, 0 to 4237\n",
            "Data columns (total 2 columns):\n",
            " #   Column             Non-Null Count  Dtype  \n",
            "---  ------             --------------  -----  \n",
            " 0   framework_formula  4238 non-null   object \n",
            " 1   average_voltage    4238 non-null   float64\n",
            "dtypes: float64(1), object(1)\n",
            "memory usage: 66.3+ KB\n"
          ]
        }
      ]
    },
    {
      "cell_type": "code",
      "source": [
        "# prompt: Using dataframe sample_data: rename formula charge\n",
        "\n",
        "sample_data.rename(columns={'framework_formula': 'formula',\n",
        "                            'average_voltage': 'target'}, inplace=True)"
      ],
      "metadata": {
        "id": "vossXK-sHLb4"
      },
      "execution_count": 38,
      "outputs": []
    },
    {
      "cell_type": "code",
      "source": [
        "\n",
        "sample_data.head()"
      ],
      "metadata": {
        "id": "PCbqU54UyEa7",
        "colab": {
          "base_uri": "https://localhost:8080/",
          "height": 206
        },
        "outputId": "5085a184-d9f3-43ee-942f-f4bfc894f151"
      },
      "execution_count": 39,
      "outputs": [
        {
          "output_type": "execute_result",
          "data": {
            "text/plain": [
              "          formula    target\n",
              "0         CoNi3O8  3.645088\n",
              "1         CrNi3O8  3.555958\n",
              "2     Cu3Sb(PO4)4  3.637514\n",
              "3         Cu(HO)4  2.901634\n",
              "4  Mn3CuNi2(PO4)6  3.757691"
            ],
            "text/html": [
              "\n",
              "  <div id=\"df-427c7c1f-fc8e-4402-b3bd-e9e476ec931f\" class=\"colab-df-container\">\n",
              "    <div>\n",
              "<style scoped>\n",
              "    .dataframe tbody tr th:only-of-type {\n",
              "        vertical-align: middle;\n",
              "    }\n",
              "\n",
              "    .dataframe tbody tr th {\n",
              "        vertical-align: top;\n",
              "    }\n",
              "\n",
              "    .dataframe thead th {\n",
              "        text-align: right;\n",
              "    }\n",
              "</style>\n",
              "<table border=\"1\" class=\"dataframe\">\n",
              "  <thead>\n",
              "    <tr style=\"text-align: right;\">\n",
              "      <th></th>\n",
              "      <th>formula</th>\n",
              "      <th>target</th>\n",
              "    </tr>\n",
              "  </thead>\n",
              "  <tbody>\n",
              "    <tr>\n",
              "      <th>0</th>\n",
              "      <td>CoNi3O8</td>\n",
              "      <td>3.645088</td>\n",
              "    </tr>\n",
              "    <tr>\n",
              "      <th>1</th>\n",
              "      <td>CrNi3O8</td>\n",
              "      <td>3.555958</td>\n",
              "    </tr>\n",
              "    <tr>\n",
              "      <th>2</th>\n",
              "      <td>Cu3Sb(PO4)4</td>\n",
              "      <td>3.637514</td>\n",
              "    </tr>\n",
              "    <tr>\n",
              "      <th>3</th>\n",
              "      <td>Cu(HO)4</td>\n",
              "      <td>2.901634</td>\n",
              "    </tr>\n",
              "    <tr>\n",
              "      <th>4</th>\n",
              "      <td>Mn3CuNi2(PO4)6</td>\n",
              "      <td>3.757691</td>\n",
              "    </tr>\n",
              "  </tbody>\n",
              "</table>\n",
              "</div>\n",
              "    <div class=\"colab-df-buttons\">\n",
              "\n",
              "  <div class=\"colab-df-container\">\n",
              "    <button class=\"colab-df-convert\" onclick=\"convertToInteractive('df-427c7c1f-fc8e-4402-b3bd-e9e476ec931f')\"\n",
              "            title=\"Convert this dataframe to an interactive table.\"\n",
              "            style=\"display:none;\">\n",
              "\n",
              "  <svg xmlns=\"http://www.w3.org/2000/svg\" height=\"24px\" viewBox=\"0 -960 960 960\">\n",
              "    <path d=\"M120-120v-720h720v720H120Zm60-500h600v-160H180v160Zm220 220h160v-160H400v160Zm0 220h160v-160H400v160ZM180-400h160v-160H180v160Zm440 0h160v-160H620v160ZM180-180h160v-160H180v160Zm440 0h160v-160H620v160Z\"/>\n",
              "  </svg>\n",
              "    </button>\n",
              "\n",
              "  <style>\n",
              "    .colab-df-container {\n",
              "      display:flex;\n",
              "      gap: 12px;\n",
              "    }\n",
              "\n",
              "    .colab-df-convert {\n",
              "      background-color: #E8F0FE;\n",
              "      border: none;\n",
              "      border-radius: 50%;\n",
              "      cursor: pointer;\n",
              "      display: none;\n",
              "      fill: #1967D2;\n",
              "      height: 32px;\n",
              "      padding: 0 0 0 0;\n",
              "      width: 32px;\n",
              "    }\n",
              "\n",
              "    .colab-df-convert:hover {\n",
              "      background-color: #E2EBFA;\n",
              "      box-shadow: 0px 1px 2px rgba(60, 64, 67, 0.3), 0px 1px 3px 1px rgba(60, 64, 67, 0.15);\n",
              "      fill: #174EA6;\n",
              "    }\n",
              "\n",
              "    .colab-df-buttons div {\n",
              "      margin-bottom: 4px;\n",
              "    }\n",
              "\n",
              "    [theme=dark] .colab-df-convert {\n",
              "      background-color: #3B4455;\n",
              "      fill: #D2E3FC;\n",
              "    }\n",
              "\n",
              "    [theme=dark] .colab-df-convert:hover {\n",
              "      background-color: #434B5C;\n",
              "      box-shadow: 0px 1px 3px 1px rgba(0, 0, 0, 0.15);\n",
              "      filter: drop-shadow(0px 1px 2px rgba(0, 0, 0, 0.3));\n",
              "      fill: #FFFFFF;\n",
              "    }\n",
              "  </style>\n",
              "\n",
              "    <script>\n",
              "      const buttonEl =\n",
              "        document.querySelector('#df-427c7c1f-fc8e-4402-b3bd-e9e476ec931f button.colab-df-convert');\n",
              "      buttonEl.style.display =\n",
              "        google.colab.kernel.accessAllowed ? 'block' : 'none';\n",
              "\n",
              "      async function convertToInteractive(key) {\n",
              "        const element = document.querySelector('#df-427c7c1f-fc8e-4402-b3bd-e9e476ec931f');\n",
              "        const dataTable =\n",
              "          await google.colab.kernel.invokeFunction('convertToInteractive',\n",
              "                                                    [key], {});\n",
              "        if (!dataTable) return;\n",
              "\n",
              "        const docLinkHtml = 'Like what you see? Visit the ' +\n",
              "          '<a target=\"_blank\" href=https://colab.research.google.com/notebooks/data_table.ipynb>data table notebook</a>'\n",
              "          + ' to learn more about interactive tables.';\n",
              "        element.innerHTML = '';\n",
              "        dataTable['output_type'] = 'display_data';\n",
              "        await google.colab.output.renderOutput(dataTable, element);\n",
              "        const docLink = document.createElement('div');\n",
              "        docLink.innerHTML = docLinkHtml;\n",
              "        element.appendChild(docLink);\n",
              "      }\n",
              "    </script>\n",
              "  </div>\n",
              "\n",
              "\n",
              "<div id=\"df-33678392-1421-428c-b208-ce39e7b094ce\">\n",
              "  <button class=\"colab-df-quickchart\" onclick=\"quickchart('df-33678392-1421-428c-b208-ce39e7b094ce')\"\n",
              "            title=\"Suggest charts\"\n",
              "            style=\"display:none;\">\n",
              "\n",
              "<svg xmlns=\"http://www.w3.org/2000/svg\" height=\"24px\"viewBox=\"0 0 24 24\"\n",
              "     width=\"24px\">\n",
              "    <g>\n",
              "        <path d=\"M19 3H5c-1.1 0-2 .9-2 2v14c0 1.1.9 2 2 2h14c1.1 0 2-.9 2-2V5c0-1.1-.9-2-2-2zM9 17H7v-7h2v7zm4 0h-2V7h2v10zm4 0h-2v-4h2v4z\"/>\n",
              "    </g>\n",
              "</svg>\n",
              "  </button>\n",
              "\n",
              "<style>\n",
              "  .colab-df-quickchart {\n",
              "      --bg-color: #E8F0FE;\n",
              "      --fill-color: #1967D2;\n",
              "      --hover-bg-color: #E2EBFA;\n",
              "      --hover-fill-color: #174EA6;\n",
              "      --disabled-fill-color: #AAA;\n",
              "      --disabled-bg-color: #DDD;\n",
              "  }\n",
              "\n",
              "  [theme=dark] .colab-df-quickchart {\n",
              "      --bg-color: #3B4455;\n",
              "      --fill-color: #D2E3FC;\n",
              "      --hover-bg-color: #434B5C;\n",
              "      --hover-fill-color: #FFFFFF;\n",
              "      --disabled-bg-color: #3B4455;\n",
              "      --disabled-fill-color: #666;\n",
              "  }\n",
              "\n",
              "  .colab-df-quickchart {\n",
              "    background-color: var(--bg-color);\n",
              "    border: none;\n",
              "    border-radius: 50%;\n",
              "    cursor: pointer;\n",
              "    display: none;\n",
              "    fill: var(--fill-color);\n",
              "    height: 32px;\n",
              "    padding: 0;\n",
              "    width: 32px;\n",
              "  }\n",
              "\n",
              "  .colab-df-quickchart:hover {\n",
              "    background-color: var(--hover-bg-color);\n",
              "    box-shadow: 0 1px 2px rgba(60, 64, 67, 0.3), 0 1px 3px 1px rgba(60, 64, 67, 0.15);\n",
              "    fill: var(--button-hover-fill-color);\n",
              "  }\n",
              "\n",
              "  .colab-df-quickchart-complete:disabled,\n",
              "  .colab-df-quickchart-complete:disabled:hover {\n",
              "    background-color: var(--disabled-bg-color);\n",
              "    fill: var(--disabled-fill-color);\n",
              "    box-shadow: none;\n",
              "  }\n",
              "\n",
              "  .colab-df-spinner {\n",
              "    border: 2px solid var(--fill-color);\n",
              "    border-color: transparent;\n",
              "    border-bottom-color: var(--fill-color);\n",
              "    animation:\n",
              "      spin 1s steps(1) infinite;\n",
              "  }\n",
              "\n",
              "  @keyframes spin {\n",
              "    0% {\n",
              "      border-color: transparent;\n",
              "      border-bottom-color: var(--fill-color);\n",
              "      border-left-color: var(--fill-color);\n",
              "    }\n",
              "    20% {\n",
              "      border-color: transparent;\n",
              "      border-left-color: var(--fill-color);\n",
              "      border-top-color: var(--fill-color);\n",
              "    }\n",
              "    30% {\n",
              "      border-color: transparent;\n",
              "      border-left-color: var(--fill-color);\n",
              "      border-top-color: var(--fill-color);\n",
              "      border-right-color: var(--fill-color);\n",
              "    }\n",
              "    40% {\n",
              "      border-color: transparent;\n",
              "      border-right-color: var(--fill-color);\n",
              "      border-top-color: var(--fill-color);\n",
              "    }\n",
              "    60% {\n",
              "      border-color: transparent;\n",
              "      border-right-color: var(--fill-color);\n",
              "    }\n",
              "    80% {\n",
              "      border-color: transparent;\n",
              "      border-right-color: var(--fill-color);\n",
              "      border-bottom-color: var(--fill-color);\n",
              "    }\n",
              "    90% {\n",
              "      border-color: transparent;\n",
              "      border-bottom-color: var(--fill-color);\n",
              "    }\n",
              "  }\n",
              "</style>\n",
              "\n",
              "  <script>\n",
              "    async function quickchart(key) {\n",
              "      const quickchartButtonEl =\n",
              "        document.querySelector('#' + key + ' button');\n",
              "      quickchartButtonEl.disabled = true;  // To prevent multiple clicks.\n",
              "      quickchartButtonEl.classList.add('colab-df-spinner');\n",
              "      try {\n",
              "        const charts = await google.colab.kernel.invokeFunction(\n",
              "            'suggestCharts', [key], {});\n",
              "      } catch (error) {\n",
              "        console.error('Error during call to suggestCharts:', error);\n",
              "      }\n",
              "      quickchartButtonEl.classList.remove('colab-df-spinner');\n",
              "      quickchartButtonEl.classList.add('colab-df-quickchart-complete');\n",
              "    }\n",
              "    (() => {\n",
              "      let quickchartButtonEl =\n",
              "        document.querySelector('#df-33678392-1421-428c-b208-ce39e7b094ce button');\n",
              "      quickchartButtonEl.style.display =\n",
              "        google.colab.kernel.accessAllowed ? 'block' : 'none';\n",
              "    })();\n",
              "  </script>\n",
              "</div>\n",
              "\n",
              "    </div>\n",
              "  </div>\n"
            ],
            "application/vnd.google.colaboratory.intrinsic+json": {
              "type": "dataframe",
              "variable_name": "sample_data",
              "summary": "{\n  \"name\": \"sample_data\",\n  \"rows\": 4238,\n  \"fields\": [\n    {\n      \"column\": \"formula\",\n      \"properties\": {\n        \"dtype\": \"category\",\n        \"num_unique_values\": 1702,\n        \"samples\": [\n          \"NiP2O7\",\n          \"MnV2(PO4)3\",\n          \"Ti3(P2O7)2\"\n        ],\n        \"semantic_type\": \"\",\n        \"description\": \"\"\n      }\n    },\n    {\n      \"column\": \"target\",\n      \"properties\": {\n        \"dtype\": \"number\",\n        \"std\": 1.71100221817948,\n        \"min\": -7.754751246666666,\n        \"max\": 54.56882506583334,\n        \"num_unique_values\": 4238,\n        \"samples\": [\n          1.5027932050000077,\n          3.961298523333317,\n          4.873282873000001\n        ],\n        \"semantic_type\": \"\",\n        \"description\": \"\"\n      }\n    }\n  ]\n}"
            }
          },
          "metadata": {},
          "execution_count": 39
        }
      ]
    },
    {
      "cell_type": "code",
      "source": [
        "sample_data.to_csv('sample_data.csv', index=False)"
      ],
      "metadata": {
        "id": "9YLiAoE2vBeh"
      },
      "execution_count": 40,
      "outputs": []
    },
    {
      "cell_type": "code",
      "source": [
        "class Featurize():\n",
        "    def __init__(self, data_path, scale=True, save=True):\n",
        "        self.data_path = data_path\n",
        "        self.scale = scale\n",
        "        self.save = save\n",
        "        self.get_xy()\n",
        "\n",
        "    def get_xy(self):\n",
        "        df = pd.read_csv(self.data_path)\n",
        "        df.columns = ['formula', 'target']\n",
        "        self.df = df\n",
        "        X, y, formulae, skipped = gf(df, elem_prop='oliynyk')\n",
        "        self.columns = X.columns\n",
        "        self.X = X\n",
        "        self.y = y\n",
        "        if self.scale:\n",
        "            self.scaler = StandardScaler()\n",
        "            self.X = normalize(self.scaler.fit_transform(X))\n",
        "        self.formula = formulae\n",
        "        self.skipped = skipped\n",
        "\n",
        "\n",
        "train_file = 'sample_data.csv'\n",
        "\n",
        "# create a model (featurization of train data here)\n",
        "feats = Featurize(train_file, scale=True, save=True)"
      ],
      "metadata": {
        "id": "DQis0rjUPiC8",
        "colab": {
          "base_uri": "https://localhost:8080/"
        },
        "outputId": "048cb72f-4550-4b78-fc94-fc330a7ba47e"
      },
      "execution_count": 41,
      "outputs": [
        {
          "output_type": "stream",
          "name": "stderr",
          "text": [
            "Processing Input Data: 100%|██████████| 4238/4238 [00:00<00:00, 16724.97it/s]\n"
          ]
        },
        {
          "output_type": "stream",
          "name": "stdout",
          "text": [
            "\tFeaturizing Compositions...\n"
          ]
        },
        {
          "output_type": "stream",
          "name": "stderr",
          "text": [
            "Assigning Features...: 100%|██████████| 4238/4238 [00:00<00:00, 8005.88it/s]\n"
          ]
        },
        {
          "output_type": "stream",
          "name": "stdout",
          "text": [
            "\tCreating Pandas Objects...\n"
          ]
        }
      ]
    },
    {
      "cell_type": "code",
      "source": [
        "featurized_data = pd.DataFrame(feats.X, columns=feats.columns)\n",
        "featurized_data.reset_index()\n",
        "featurized_data.to_csv('cbfv_data.csv', index=False)"
      ],
      "metadata": {
        "id": "TOBTF6IRGMaI"
      },
      "execution_count": 42,
      "outputs": []
    },
    {
      "cell_type": "code",
      "source": [
        "battery_data = pd.concat([battery_data, featurized_data], axis = 1)"
      ],
      "metadata": {
        "id": "kWHCP8qi3d5F"
      },
      "execution_count": 43,
      "outputs": []
    },
    {
      "cell_type": "code",
      "source": [
        "battery_data.info()"
      ],
      "metadata": {
        "id": "pxXr-b87SUOx",
        "colab": {
          "base_uri": "https://localhost:8080/"
        },
        "outputId": "b79eecdc-c017-45f4-c81e-6732b94e6a56"
      },
      "execution_count": 44,
      "outputs": [
        {
          "output_type": "stream",
          "name": "stdout",
          "text": [
            "<class 'pandas.core.frame.DataFrame'>\n",
            "RangeIndex: 4238 entries, 0 to 4237\n",
            "Columns: 308 entries, num_steps to mode_Cohesive_energy\n",
            "dtypes: float64(305), int64(2), object(1)\n",
            "memory usage: 10.0+ MB\n"
          ]
        }
      ]
    },
    {
      "cell_type": "code",
      "source": [
        "battery_data.drop(['framework_formula'], axis=1, inplace=True)"
      ],
      "metadata": {
        "id": "cgirvaLyrV1J"
      },
      "execution_count": 45,
      "outputs": []
    },
    {
      "cell_type": "code",
      "source": [
        "battery_data.info()"
      ],
      "metadata": {
        "colab": {
          "base_uri": "https://localhost:8080/"
        },
        "id": "A-eazYrPSZC0",
        "outputId": "c53120ba-e911-470f-b399-a36b59d5e370"
      },
      "execution_count": 46,
      "outputs": [
        {
          "output_type": "stream",
          "name": "stdout",
          "text": [
            "<class 'pandas.core.frame.DataFrame'>\n",
            "RangeIndex: 4238 entries, 0 to 4237\n",
            "Columns: 307 entries, num_steps to mode_Cohesive_energy\n",
            "dtypes: float64(305), int64(2)\n",
            "memory usage: 9.9 MB\n"
          ]
        }
      ]
    },
    {
      "cell_type": "markdown",
      "source": [
        "# PRINCIPAL COMPONENT ANALYSIS(**PCA**)"
      ],
      "metadata": {
        "id": "-1YJgJBwxMMK"
      }
    },
    {
      "cell_type": "code",
      "source": [
        "X = battery_data.drop('average_voltage', axis=1)\n",
        "y = battery_data['average_voltage']"
      ],
      "metadata": {
        "id": "9cvTJVQVOX2Z"
      },
      "execution_count": 47,
      "outputs": []
    },
    {
      "cell_type": "code",
      "source": [
        "scalar = StandardScaler()"
      ],
      "metadata": {
        "id": "OyKVf2lUfciu"
      },
      "execution_count": 48,
      "outputs": []
    },
    {
      "cell_type": "code",
      "source": [
        "x_scaled = scalar.fit_transform(X)"
      ],
      "metadata": {
        "id": "NhMun7FEPKM_"
      },
      "execution_count": 49,
      "outputs": []
    },
    {
      "cell_type": "code",
      "source": [
        "pca = PCA()"
      ],
      "metadata": {
        "id": "7TOBZbMNb1bh"
      },
      "execution_count": 50,
      "outputs": []
    },
    {
      "cell_type": "code",
      "source": [
        "x_pca = pca.fit(x_scaled)"
      ],
      "metadata": {
        "id": "15-Ll9r5yaif"
      },
      "execution_count": 52,
      "outputs": []
    },
    {
      "cell_type": "code",
      "source": [
        "# Optional: Plot explained variance to decide number of components\n",
        "plt.figure(figsize=(10, 6))\n",
        "plt.plot(np.cumsum(pca.explained_variance_ratio_), linewidth=2)\n",
        "plt.xlabel('Number of Components')\n",
        "plt.ylabel('Variance Explained (%)') # for each component\n",
        "plt.title('Explained Variance by Number of Principal Components')\n",
        "plt.grid()\n",
        "plt.show()"
      ],
      "metadata": {
        "id": "djNQHw0ydXhu",
        "colab": {
          "base_uri": "https://localhost:8080/",
          "height": 564
        },
        "outputId": "5883b8db-86c1-4b9d-fe3c-bf92701e9865"
      },
      "execution_count": 53,
      "outputs": [
        {
          "output_type": "display_data",
          "data": {
            "text/plain": [
              "<Figure size 1000x600 with 1 Axes>"
            ],
            "image/png": "[encoded data removed]"
          },
          "metadata": {}
        }
      ]
    },
    {
      "cell_type": "code",
      "source": [
        "n_components = np.argmax(np.cumsum(pca.explained_variance_ratio_) >= 0.95) + 1\n",
        "print(f'Number of components explaining 99% of variance: {n_components}')"
      ],
      "metadata": {
        "id": "1glJ5gaEZsHt",
        "colab": {
          "base_uri": "https://localhost:8080/"
        },
        "outputId": "7469845b-47f1-4db4-bd1c-b75444e6ab7a"
      },
      "execution_count": 54,
      "outputs": [
        {
          "output_type": "stream",
          "name": "stdout",
          "text": [
            "Number of components explaining 99% of variance: 50\n"
          ]
        }
      ]
    },
    {
      "cell_type": "code",
      "source": [
        "pca = PCA(n_components= 200)\n",
        "x_reduced = pca.fit_transform(x_scaled)"
      ],
      "metadata": {
        "id": "MDXhLVgDogTt"
      },
      "execution_count": 55,
      "outputs": []
    },
    {
      "cell_type": "code",
      "source": [
        "x_reduced.shape"
      ],
      "metadata": {
        "id": "Rs3rFtlm9hr2",
        "colab": {
          "base_uri": "https://localhost:8080/"
        },
        "outputId": "457860a2-d14f-4577-e7ef-883411c2e2b5"
      },
      "execution_count": 56,
      "outputs": [
        {
          "output_type": "execute_result",
          "data": {
            "text/plain": [
              "(4238, 200)"
            ]
          },
          "metadata": {},
          "execution_count": 56
        }
      ]
    },
    {
      "cell_type": "code",
      "source": [
        "X_train, X_test, y_train, y_test = train_test_split(x_reduced, y, test_size=0.2, random_state=42)"
      ],
      "metadata": {
        "id": "DkjqucgjDfwS"
      },
      "execution_count": 58,
      "outputs": []
    },
    {
      "cell_type": "code",
      "source": [
        "from sklearn.ensemble import RandomForestRegressor\n",
        "from sklearn.svm import SVR\n",
        "from sklearn.model_selection import GridSearchCV"
      ],
      "metadata": {
        "id": "5a4XzHDqh3MU"
      },
      "execution_count": 57,
      "outputs": []
    },
    {
      "cell_type": "code",
      "source": [
        "X_train, X_test, y_train, y_test = train_test_split(x_reduced, y, test_size=0.2, random_state=42)\n",
        "model = RandomForestRegressor()\n",
        "model.fit(X_train, y_train)\n",
        "\n",
        "# Make predictions and evaluate\n",
        "y_pred = model.predict(X_test)\n",
        "r2 = r2_score(y_test, y_pred)\n",
        "print(f'R^2 Score: {r2}')"
      ],
      "metadata": {
        "id": "5qf82TnP-Sn-",
        "colab": {
          "base_uri": "https://localhost:8080/"
        },
        "outputId": "c88669f8-d1fb-4dd0-c2eb-d80ac4437958"
      },
      "execution_count": null,
      "outputs": [
        {
          "output_type": "stream",
          "name": "stdout",
          "text": [
            "R^2 Score: 0.6756722874948167\n"
          ]
        }
      ]
    },
    {
      "cell_type": "code",
      "source": [
        "\n",
        "# Train a Support Vector Regression (SVR) model\n",
        "svr = SVR(kernel='rbf', C=1.0, epsilon=0.1)  # You can tune these hyperparameters\n",
        "svr.fit(X_train, y_train)\n",
        "\n",
        "# Make predictions\n",
        "y_pred = svr.predict(X_test)\n",
        "\n",
        "# Evaluate the model using R^2\n",
        "r2 = r2_score(y_test, y_pred)\n",
        "print(f'R^2 Score: {r2}')"
      ],
      "metadata": {
        "id": "u1hJL0Ss_Eh6",
        "colab": {
          "base_uri": "https://localhost:8080/"
        },
        "outputId": "80dc293f-c5aa-4ccb-8b8f-ee299861dc75"
      },
      "execution_count": null,
      "outputs": [
        {
          "output_type": "stream",
          "name": "stdout",
          "text": [
            "R^2 Score: 0.7747167359431071\n"
          ]
        }
      ]
    },
    {
      "cell_type": "code",
      "source": [
        "# Define the parameter grid\n",
        "param_grid = {\n",
        "    'C': [0.1, 1, 10, 100],\n",
        "    'epsilon': [0.01, 0.1, 0.5, 1],\n",
        "    'kernel': ['linear', 'poly', 'rbf', 'sigmoid']\n",
        "}\n",
        "\n",
        "# Create a GridSearchCV object\n",
        "grid_search = GridSearchCV(SVR(), param_grid, cv=5, scoring='r2', n_jobs=-1)\n",
        "grid_search.fit(X_train, y_train)\n",
        "\n",
        "# Get the best parameters and best score\n",
        "best_params = grid_search.best_params_\n",
        "best_score = grid_search.best_score_\n",
        "\n",
        "print(f'Best Parameters: {best_params}')\n",
        "print(f'Best Cross-Validated R^2: {best_score}')\n",
        "\n",
        "# Train the best model on the full training data\n",
        "best_svr = grid_search.best_estimator_\n",
        "best_svr.fit(X_train, y_train)\n",
        "\n",
        "# Make predictions with the best model\n",
        "y_pred_best = best_svr.predict(X_test)\n",
        "\n",
        "# Evaluate the best model using R^2\n",
        "best_r2 = r2_score(y_test, y_pred_best)\n",
        "print(f'Best Model R^2 Score: {best_r2}')"
      ],
      "metadata": {
        "id": "kG4BZvny_MvD",
        "colab": {
          "base_uri": "https://localhost:8080/",
          "height": 356
        },
        "outputId": "2fc4b02f-fd06-4ff7-aaf3-c935d6c2c535"
      },
      "execution_count": null,
      "outputs": [
        {
          "output_type": "error",
          "ename": "KeyboardInterrupt",
          "evalue": "",
          "traceback": [
            "\u001b[0;31m---------------------------------------------------------------------------\u001b[0m",
            "\u001b[0;31mKeyboardInterrupt\u001b[0m                         Traceback (most recent call last)",
            "\u001b[0;32m<ipython-input-72-1a0f68183ca0>\u001b[0m in \u001b[0;36m<cell line: 10>\u001b[0;34m()\u001b[0m\n\u001b[1;32m      8\u001b[0m \u001b[0;31m# Create a GridSearchCV object\u001b[0m\u001b[0;34m\u001b[0m\u001b[0;34m\u001b[0m\u001b[0m\n\u001b[1;32m      9\u001b[0m \u001b[0mgrid_search\u001b[0m \u001b[0;34m=\u001b[0m \u001b[0mGridSearchCV\u001b[0m\u001b[0;34m(\u001b[0m\u001b[0mSVR\u001b[0m\u001b[0;34m(\u001b[0m\u001b[0;34m)\u001b[0m\u001b[0;34m,\u001b[0m \u001b[0mparam_grid\u001b[0m\u001b[0;34m,\u001b[0m \u001b[0mcv\u001b[0m\u001b[0;34m=\u001b[0m\u001b[0;36m5\u001b[0m\u001b[0;34m,\u001b[0m \u001b[0mscoring\u001b[0m\u001b[0;34m=\u001b[0m\u001b[0;34m'r2'\u001b[0m\u001b[0;34m,\u001b[0m \u001b[0mn_jobs\u001b[0m\u001b[0;34m=\u001b[0m\u001b[0;34m-\u001b[0m\u001b[0;36m1\u001b[0m\u001b[0;34m)\u001b[0m\u001b[0;34m\u001b[0m\u001b[0;34m\u001b[0m\u001b[0m\n\u001b[0;32m---> 10\u001b[0;31m \u001b[0mgrid_search\u001b[0m\u001b[0;34m.\u001b[0m\u001b[0mfit\u001b[0m\u001b[0;34m(\u001b[0m\u001b[0mX_train\u001b[0m\u001b[0;34m,\u001b[0m \u001b[0my_train\u001b[0m\u001b[0;34m)\u001b[0m\u001b[0;34m\u001b[0m\u001b[0;34m\u001b[0m\u001b[0m\n\u001b[0m\u001b[1;32m     11\u001b[0m \u001b[0;34m\u001b[0m\u001b[0m\n\u001b[1;32m     12\u001b[0m \u001b[0;31m# Get the best parameters and best score\u001b[0m\u001b[0;34m\u001b[0m\u001b[0;34m\u001b[0m\u001b[0m\n",
            "\u001b[0;32m/usr/local/lib/python3.10/dist-packages/sklearn/base.py\u001b[0m in \u001b[0;36mwrapper\u001b[0;34m(estimator, *args, **kwargs)\u001b[0m\n\u001b[1;32m   1471\u001b[0m                 )\n\u001b[1;32m   1472\u001b[0m             ):\n\u001b[0;32m-> 1473\u001b[0;31m                 \u001b[0;32mreturn\u001b[0m \u001b[0mfit_method\u001b[0m\u001b[0;34m(\u001b[0m\u001b[0mestimator\u001b[0m\u001b[0;34m,\u001b[0m \u001b[0;34m*\u001b[0m\u001b[0margs\u001b[0m\u001b[0;34m,\u001b[0m \u001b[0;34m**\u001b[0m\u001b[0mkwargs\u001b[0m\u001b[0;34m)\u001b[0m\u001b[0;34m\u001b[0m\u001b[0;34m\u001b[0m\u001b[0m\n\u001b[0m\u001b[1;32m   1474\u001b[0m \u001b[0;34m\u001b[0m\u001b[0m\n\u001b[1;32m   1475\u001b[0m         \u001b[0;32mreturn\u001b[0m \u001b[0mwrapper\u001b[0m\u001b[0;34m\u001b[0m\u001b[0;34m\u001b[0m\u001b[0m\n",
            "\u001b[0;32m/usr/local/lib/python3.10/dist-packages/sklearn/model_selection/_search.py\u001b[0m in \u001b[0;36mfit\u001b[0;34m(self, X, y, **params)\u001b[0m\n\u001b[1;32m    966\u001b[0m                 \u001b[0;32mreturn\u001b[0m \u001b[0mresults\u001b[0m\u001b[0;34m\u001b[0m\u001b[0;34m\u001b[0m\u001b[0m\n\u001b[1;32m    967\u001b[0m \u001b[0;34m\u001b[0m\u001b[0m\n\u001b[0;32m--> 968\u001b[0;31m             \u001b[0mself\u001b[0m\u001b[0;34m.\u001b[0m\u001b[0m_run_search\u001b[0m\u001b[0;34m(\u001b[0m\u001b[0mevaluate_candidates\u001b[0m\u001b[0;34m)\u001b[0m\u001b[0;34m\u001b[0m\u001b[0;34m\u001b[0m\u001b[0m\n\u001b[0m\u001b[1;32m    969\u001b[0m \u001b[0;34m\u001b[0m\u001b[0m\n\u001b[1;32m    970\u001b[0m             \u001b[0;31m# multimetric is determined here because in the case of a callable\u001b[0m\u001b[0;34m\u001b[0m\u001b[0;34m\u001b[0m\u001b[0m\n",
            "\u001b[0;32m/usr/local/lib/python3.10/dist-packages/sklearn/model_selection/_search.py\u001b[0m in \u001b[0;36m_run_search\u001b[0;34m(self, evaluate_candidates)\u001b[0m\n\u001b[1;32m   1541\u001b[0m     \u001b[0;32mdef\u001b[0m \u001b[0m_run_search\u001b[0m\u001b[0;34m(\u001b[0m\u001b[0mself\u001b[0m\u001b[0;34m,\u001b[0m \u001b[0mevaluate_candidates\u001b[0m\u001b[0;34m)\u001b[0m\u001b[0;34m:\u001b[0m\u001b[0;34m\u001b[0m\u001b[0;34m\u001b[0m\u001b[0m\n\u001b[1;32m   1542\u001b[0m         \u001b[0;34m\"\"\"Search all candidates in param_grid\"\"\"\u001b[0m\u001b[0;34m\u001b[0m\u001b[0;34m\u001b[0m\u001b[0m\n\u001b[0;32m-> 1543\u001b[0;31m         \u001b[0mevaluate_candidates\u001b[0m\u001b[0;34m(\u001b[0m\u001b[0mParameterGrid\u001b[0m\u001b[0;34m(\u001b[0m\u001b[0mself\u001b[0m\u001b[0;34m.\u001b[0m\u001b[0mparam_grid\u001b[0m\u001b[0;34m)\u001b[0m\u001b[0;34m)\u001b[0m\u001b[0;34m\u001b[0m\u001b[0;34m\u001b[0m\u001b[0m\n\u001b[0m\u001b[1;32m   1544\u001b[0m \u001b[0;34m\u001b[0m\u001b[0m\n\u001b[1;32m   1545\u001b[0m \u001b[0;34m\u001b[0m\u001b[0m\n",
            "\u001b[0;32m/usr/local/lib/python3.10/dist-packages/sklearn/model_selection/_search.py\u001b[0m in \u001b[0;36mevaluate_candidates\u001b[0;34m(candidate_params, cv, more_results)\u001b[0m\n\u001b[1;32m    912\u001b[0m                     )\n\u001b[1;32m    913\u001b[0m \u001b[0;34m\u001b[0m\u001b[0m\n\u001b[0;32m--> 914\u001b[0;31m                 out = parallel(\n\u001b[0m\u001b[1;32m    915\u001b[0m                     delayed(_fit_and_score)(\n\u001b[1;32m    916\u001b[0m                         \u001b[0mclone\u001b[0m\u001b[0;34m(\u001b[0m\u001b[0mbase_estimator\u001b[0m\u001b[0;34m)\u001b[0m\u001b[0;34m,\u001b[0m\u001b[0;34m\u001b[0m\u001b[0;34m\u001b[0m\u001b[0m\n",
            "\u001b[0;32m/usr/local/lib/python3.10/dist-packages/sklearn/utils/parallel.py\u001b[0m in \u001b[0;36m__call__\u001b[0;34m(self, iterable)\u001b[0m\n\u001b[1;32m     65\u001b[0m             \u001b[0;32mfor\u001b[0m \u001b[0mdelayed_func\u001b[0m\u001b[0;34m,\u001b[0m \u001b[0margs\u001b[0m\u001b[0;34m,\u001b[0m \u001b[0mkwargs\u001b[0m \u001b[0;32min\u001b[0m \u001b[0miterable\u001b[0m\u001b[0;34m\u001b[0m\u001b[0;34m\u001b[0m\u001b[0m\n\u001b[1;32m     66\u001b[0m         )\n\u001b[0;32m---> 67\u001b[0;31m         \u001b[0;32mreturn\u001b[0m \u001b[0msuper\u001b[0m\u001b[0;34m(\u001b[0m\u001b[0;34m)\u001b[0m\u001b[0;34m.\u001b[0m\u001b[0m__call__\u001b[0m\u001b[0;34m(\u001b[0m\u001b[0miterable_with_config\u001b[0m\u001b[0;34m)\u001b[0m\u001b[0;34m\u001b[0m\u001b[0;34m\u001b[0m\u001b[0m\n\u001b[0m\u001b[1;32m     68\u001b[0m \u001b[0;34m\u001b[0m\u001b[0m\n\u001b[1;32m     69\u001b[0m \u001b[0;34m\u001b[0m\u001b[0m\n",
            "\u001b[0;32m/usr/local/lib/python3.10/dist-packages/joblib/parallel.py\u001b[0m in \u001b[0;36m__call__\u001b[0;34m(self, iterable)\u001b[0m\n\u001b[1;32m   2005\u001b[0m         \u001b[0mnext\u001b[0m\u001b[0;34m(\u001b[0m\u001b[0moutput\u001b[0m\u001b[0;34m)\u001b[0m\u001b[0;34m\u001b[0m\u001b[0;34m\u001b[0m\u001b[0m\n\u001b[1;32m   2006\u001b[0m \u001b[0;34m\u001b[0m\u001b[0m\n\u001b[0;32m-> 2007\u001b[0;31m         \u001b[0;32mreturn\u001b[0m \u001b[0moutput\u001b[0m \u001b[0;32mif\u001b[0m \u001b[0mself\u001b[0m\u001b[0;34m.\u001b[0m\u001b[0mreturn_generator\u001b[0m \u001b[0;32melse\u001b[0m \u001b[0mlist\u001b[0m\u001b[0;34m(\u001b[0m\u001b[0moutput\u001b[0m\u001b[0;34m)\u001b[0m\u001b[0;34m\u001b[0m\u001b[0;34m\u001b[0m\u001b[0m\n\u001b[0m\u001b[1;32m   2008\u001b[0m \u001b[0;34m\u001b[0m\u001b[0m\n\u001b[1;32m   2009\u001b[0m     \u001b[0;32mdef\u001b[0m \u001b[0m__repr__\u001b[0m\u001b[0;34m(\u001b[0m\u001b[0mself\u001b[0m\u001b[0;34m)\u001b[0m\u001b[0;34m:\u001b[0m\u001b[0;34m\u001b[0m\u001b[0;34m\u001b[0m\u001b[0m\n",
            "\u001b[0;32m/usr/local/lib/python3.10/dist-packages/joblib/parallel.py\u001b[0m in \u001b[0;36m_get_outputs\u001b[0;34m(self, iterator, pre_dispatch)\u001b[0m\n\u001b[1;32m   1648\u001b[0m \u001b[0;34m\u001b[0m\u001b[0m\n\u001b[1;32m   1649\u001b[0m             \u001b[0;32mwith\u001b[0m \u001b[0mself\u001b[0m\u001b[0;34m.\u001b[0m\u001b[0m_backend\u001b[0m\u001b[0;34m.\u001b[0m\u001b[0mretrieval_context\u001b[0m\u001b[0;34m(\u001b[0m\u001b[0;34m)\u001b[0m\u001b[0;34m:\u001b[0m\u001b[0;34m\u001b[0m\u001b[0;34m\u001b[0m\u001b[0m\n\u001b[0;32m-> 1650\u001b[0;31m                 \u001b[0;32myield\u001b[0m \u001b[0;32mfrom\u001b[0m \u001b[0mself\u001b[0m\u001b[0;34m.\u001b[0m\u001b[0m_retrieve\u001b[0m\u001b[0;34m(\u001b[0m\u001b[0;34m)\u001b[0m\u001b[0;34m\u001b[0m\u001b[0;34m\u001b[0m\u001b[0m\n\u001b[0m\u001b[1;32m   1651\u001b[0m \u001b[0;34m\u001b[0m\u001b[0m\n\u001b[1;32m   1652\u001b[0m         \u001b[0;32mexcept\u001b[0m \u001b[0mGeneratorExit\u001b[0m\u001b[0;34m:\u001b[0m\u001b[0;34m\u001b[0m\u001b[0;34m\u001b[0m\u001b[0m\n",
            "\u001b[0;32m/usr/local/lib/python3.10/dist-packages/joblib/parallel.py\u001b[0m in \u001b[0;36m_retrieve\u001b[0;34m(self)\u001b[0m\n\u001b[1;32m   1760\u001b[0m                 (self._jobs[0].get_status(\n\u001b[1;32m   1761\u001b[0m                     timeout=self.timeout) == TASK_PENDING)):\n\u001b[0;32m-> 1762\u001b[0;31m                 \u001b[0mtime\u001b[0m\u001b[0;34m.\u001b[0m\u001b[0msleep\u001b[0m\u001b[0;34m(\u001b[0m\u001b[0;36m0.01\u001b[0m\u001b[0;34m)\u001b[0m\u001b[0;34m\u001b[0m\u001b[0;34m\u001b[0m\u001b[0m\n\u001b[0m\u001b[1;32m   1763\u001b[0m                 \u001b[0;32mcontinue\u001b[0m\u001b[0;34m\u001b[0m\u001b[0;34m\u001b[0m\u001b[0m\n\u001b[1;32m   1764\u001b[0m \u001b[0;34m\u001b[0m\u001b[0m\n",
            "\u001b[0;31mKeyboardInterrupt\u001b[0m: "
          ]
        }
      ]
    },
    {
      "cell_type": "code",
      "source": [],
      "metadata": {
        "id": "rV3yv21YmWlF"
      },
      "execution_count": null,
      "outputs": []
    }
  ]
}